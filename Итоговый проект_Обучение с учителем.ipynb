{
 "cells": [
  {
   "cell_type": "markdown",
   "metadata": {
    "toc": true
   },
   "source": [
    "<h1>Содержание<span class=\"tocSkip\"></span></h1>\n",
    "<div class=\"toc\"><ul class=\"toc-item\"><li><span><a href=\"#План-работы\" data-toc-modified-id=\"План-работы-1\"><span class=\"toc-item-num\">1&nbsp;&nbsp;</span>План работы</a></span></li><li><span><a href=\"#Подготовка-данных\" data-toc-modified-id=\"Подготовка-данных-2\"><span class=\"toc-item-num\">2&nbsp;&nbsp;</span>Подготовка данных</a></span></li><li><span><a href=\"#Исследование-задачи-(обучаем-без-учета-урегулирования-дисбаланса)\" data-toc-modified-id=\"Исследование-задачи-(обучаем-без-учета-урегулирования-дисбаланса)-3\"><span class=\"toc-item-num\">3&nbsp;&nbsp;</span>Исследование задачи (обучаем без учета урегулирования дисбаланса)</a></span><ul class=\"toc-item\"><li><span><a href=\"#Дерево-решений\" data-toc-modified-id=\"Дерево-решений-3.1\"><span class=\"toc-item-num\">3.1&nbsp;&nbsp;</span>Дерево решений</a></span></li><li><span><a href=\"#Случайный-лес\" data-toc-modified-id=\"Случайный-лес-3.2\"><span class=\"toc-item-num\">3.2&nbsp;&nbsp;</span>Случайный лес</a></span></li></ul></li><li><span><a href=\"#Борьба-с-дисбалансом\" data-toc-modified-id=\"Борьба-с-дисбалансом-4\"><span class=\"toc-item-num\">4&nbsp;&nbsp;</span>Борьба с дисбалансом</a></span></li><li><span><a href=\"#Тестирование-модели\" data-toc-modified-id=\"Тестирование-модели-5\"><span class=\"toc-item-num\">5&nbsp;&nbsp;</span>Тестирование модели</a></span></li><li><span><a href=\"#Чек-лист-готовности-проекта\" data-toc-modified-id=\"Чек-лист-готовности-проекта-6\"><span class=\"toc-item-num\">6&nbsp;&nbsp;</span>Чек-лист готовности проекта</a></span></li></ul></div>"
   ]
  },
  {
   "cell_type": "markdown",
   "metadata": {},
   "source": []
  },
  {
   "cell_type": "markdown",
   "metadata": {},
   "source": [
    "# Отток клиентов"
   ]
  },
  {
   "cell_type": "markdown",
   "metadata": {},
   "source": [
    "Из «Бета-Банка» стали уходить клиенты. Каждый месяц. Немного, но заметно. Банковские маркетологи посчитали: сохранять текущих клиентов дешевле, чем привлекать новых.\n",
    "\n",
    "Нужно спрогнозировать, уйдёт клиент из банка в ближайшее время или нет. Вам предоставлены исторические данные о поведении клиентов и расторжении договоров с банком. \n",
    "\n",
    "Постройте модель с предельно большим значением *F1*-меры. Чтобы сдать проект успешно, нужно довести метрику до 0.59. Проверьте *F1*-меру на тестовой выборке самостоятельно.\n",
    "\n",
    "Дополнительно измеряйте *AUC-ROC*, сравнивайте её значение с *F1*-мерой.\n",
    "\n",
    "Источник данных: [https://www.kaggle.com/barelydedicated/bank-customer-churn-modeling](https://www.kaggle.com/barelydedicated/bank-customer-churn-modeling)"
   ]
  },
  {
   "cell_type": "markdown",
   "metadata": {},
   "source": [
    "## План работы\n",
    "1. Загружаем и подготавливаем данные.\n",
    "2. Исследуем баланс классов, обучаем модель без учёта дисбаланса. \n",
    "3. Улучшаем качество модели, учитывая дисбаланс классов. Обучаем разные модели и находим лучшую. \n",
    "4. Проведим финальное тестирование."
   ]
  },
  {
   "cell_type": "markdown",
   "metadata": {},
   "source": [
    "## Подготовка данных"
   ]
  },
  {
   "cell_type": "code",
   "execution_count": 1,
   "metadata": {},
   "outputs": [],
   "source": [
    "import pandas as pd\n",
    "from sklearn.model_selection import train_test_split\n",
    "from sklearn.linear_model import LogisticRegression\n",
    "from sklearn.tree import DecisionTreeClassifier\n",
    "from sklearn.preprocessing import OrdinalEncoder, StandardScaler  \n",
    "from sklearn.metrics import accuracy_score, confusion_matrix, recall_score, precision_score, f1_score, roc_curve, roc_auc_score \n",
    "from sklearn.utils import shuffle\n",
    "from sklearn.ensemble import RandomForestClassifier\n",
    "import numpy as np\n",
    "from tqdm import tqdm\n",
    "from matplotlib import pyplot as plt"
   ]
  },
  {
   "cell_type": "code",
   "execution_count": 2,
   "metadata": {},
   "outputs": [
    {
     "data": {
      "text/html": [
       "<div>\n",
       "<style scoped>\n",
       "    .dataframe tbody tr th:only-of-type {\n",
       "        vertical-align: middle;\n",
       "    }\n",
       "\n",
       "    .dataframe tbody tr th {\n",
       "        vertical-align: top;\n",
       "    }\n",
       "\n",
       "    .dataframe thead th {\n",
       "        text-align: right;\n",
       "    }\n",
       "</style>\n",
       "<table border=\"1\" class=\"dataframe\">\n",
       "  <thead>\n",
       "    <tr style=\"text-align: right;\">\n",
       "      <th></th>\n",
       "      <th>RowNumber</th>\n",
       "      <th>CustomerId</th>\n",
       "      <th>Surname</th>\n",
       "      <th>CreditScore</th>\n",
       "      <th>Geography</th>\n",
       "      <th>Gender</th>\n",
       "      <th>Age</th>\n",
       "      <th>Tenure</th>\n",
       "      <th>Balance</th>\n",
       "      <th>NumOfProducts</th>\n",
       "      <th>HasCrCard</th>\n",
       "      <th>IsActiveMember</th>\n",
       "      <th>EstimatedSalary</th>\n",
       "      <th>Exited</th>\n",
       "    </tr>\n",
       "  </thead>\n",
       "  <tbody>\n",
       "    <tr>\n",
       "      <th>0</th>\n",
       "      <td>1</td>\n",
       "      <td>15634602</td>\n",
       "      <td>Hargrave</td>\n",
       "      <td>619</td>\n",
       "      <td>France</td>\n",
       "      <td>Female</td>\n",
       "      <td>42</td>\n",
       "      <td>2.0</td>\n",
       "      <td>0.00</td>\n",
       "      <td>1</td>\n",
       "      <td>1</td>\n",
       "      <td>1</td>\n",
       "      <td>101348.88</td>\n",
       "      <td>1</td>\n",
       "    </tr>\n",
       "    <tr>\n",
       "      <th>1</th>\n",
       "      <td>2</td>\n",
       "      <td>15647311</td>\n",
       "      <td>Hill</td>\n",
       "      <td>608</td>\n",
       "      <td>Spain</td>\n",
       "      <td>Female</td>\n",
       "      <td>41</td>\n",
       "      <td>1.0</td>\n",
       "      <td>83807.86</td>\n",
       "      <td>1</td>\n",
       "      <td>0</td>\n",
       "      <td>1</td>\n",
       "      <td>112542.58</td>\n",
       "      <td>0</td>\n",
       "    </tr>\n",
       "    <tr>\n",
       "      <th>2</th>\n",
       "      <td>3</td>\n",
       "      <td>15619304</td>\n",
       "      <td>Onio</td>\n",
       "      <td>502</td>\n",
       "      <td>France</td>\n",
       "      <td>Female</td>\n",
       "      <td>42</td>\n",
       "      <td>8.0</td>\n",
       "      <td>159660.80</td>\n",
       "      <td>3</td>\n",
       "      <td>1</td>\n",
       "      <td>0</td>\n",
       "      <td>113931.57</td>\n",
       "      <td>1</td>\n",
       "    </tr>\n",
       "    <tr>\n",
       "      <th>3</th>\n",
       "      <td>4</td>\n",
       "      <td>15701354</td>\n",
       "      <td>Boni</td>\n",
       "      <td>699</td>\n",
       "      <td>France</td>\n",
       "      <td>Female</td>\n",
       "      <td>39</td>\n",
       "      <td>1.0</td>\n",
       "      <td>0.00</td>\n",
       "      <td>2</td>\n",
       "      <td>0</td>\n",
       "      <td>0</td>\n",
       "      <td>93826.63</td>\n",
       "      <td>0</td>\n",
       "    </tr>\n",
       "    <tr>\n",
       "      <th>4</th>\n",
       "      <td>5</td>\n",
       "      <td>15737888</td>\n",
       "      <td>Mitchell</td>\n",
       "      <td>850</td>\n",
       "      <td>Spain</td>\n",
       "      <td>Female</td>\n",
       "      <td>43</td>\n",
       "      <td>2.0</td>\n",
       "      <td>125510.82</td>\n",
       "      <td>1</td>\n",
       "      <td>1</td>\n",
       "      <td>1</td>\n",
       "      <td>79084.10</td>\n",
       "      <td>0</td>\n",
       "    </tr>\n",
       "  </tbody>\n",
       "</table>\n",
       "</div>"
      ],
      "text/plain": [
       "   RowNumber  CustomerId   Surname  CreditScore Geography  Gender  Age  \\\n",
       "0          1    15634602  Hargrave          619    France  Female   42   \n",
       "1          2    15647311      Hill          608     Spain  Female   41   \n",
       "2          3    15619304      Onio          502    France  Female   42   \n",
       "3          4    15701354      Boni          699    France  Female   39   \n",
       "4          5    15737888  Mitchell          850     Spain  Female   43   \n",
       "\n",
       "   Tenure    Balance  NumOfProducts  HasCrCard  IsActiveMember  \\\n",
       "0     2.0       0.00              1          1               1   \n",
       "1     1.0   83807.86              1          0               1   \n",
       "2     8.0  159660.80              3          1               0   \n",
       "3     1.0       0.00              2          0               0   \n",
       "4     2.0  125510.82              1          1               1   \n",
       "\n",
       "   EstimatedSalary  Exited  \n",
       "0        101348.88       1  \n",
       "1        112542.58       0  \n",
       "2        113931.57       1  \n",
       "3         93826.63       0  \n",
       "4         79084.10       0  "
      ]
     },
     "execution_count": 2,
     "metadata": {},
     "output_type": "execute_result"
    }
   ],
   "source": [
    "data = pd.read_csv('/datasets/Churn.csv')\n",
    "data.head()"
   ]
  },
  {
   "cell_type": "code",
   "execution_count": 3,
   "metadata": {},
   "outputs": [
    {
     "name": "stdout",
     "output_type": "stream",
     "text": [
      "(10000, 14)\n"
     ]
    }
   ],
   "source": [
    "print(data.shape)"
   ]
  },
  {
   "cell_type": "code",
   "execution_count": 4,
   "metadata": {},
   "outputs": [
    {
     "name": "stdout",
     "output_type": "stream",
     "text": [
      "<class 'pandas.core.frame.DataFrame'>\n",
      "RangeIndex: 10000 entries, 0 to 9999\n",
      "Data columns (total 14 columns):\n",
      " #   Column           Non-Null Count  Dtype  \n",
      "---  ------           --------------  -----  \n",
      " 0   RowNumber        10000 non-null  int64  \n",
      " 1   CustomerId       10000 non-null  int64  \n",
      " 2   Surname          10000 non-null  object \n",
      " 3   CreditScore      10000 non-null  int64  \n",
      " 4   Geography        10000 non-null  object \n",
      " 5   Gender           10000 non-null  object \n",
      " 6   Age              10000 non-null  int64  \n",
      " 7   Tenure           9091 non-null   float64\n",
      " 8   Balance          10000 non-null  float64\n",
      " 9   NumOfProducts    10000 non-null  int64  \n",
      " 10  HasCrCard        10000 non-null  int64  \n",
      " 11  IsActiveMember   10000 non-null  int64  \n",
      " 12  EstimatedSalary  10000 non-null  float64\n",
      " 13  Exited           10000 non-null  int64  \n",
      "dtypes: float64(3), int64(8), object(3)\n",
      "memory usage: 1.1+ MB\n"
     ]
    }
   ],
   "source": [
    "data.info()"
   ]
  },
  {
   "cell_type": "markdown",
   "metadata": {},
   "source": [
    "Видим, что везде строки заполнены, за исключением Tenure (909 пусты строк). Смотрим из чего состоят другие параметры строк с tenure"
   ]
  },
  {
   "cell_type": "code",
   "execution_count": 5,
   "metadata": {
    "scrolled": true
   },
   "outputs": [
    {
     "data": {
      "image/png": "[encoded data removed]",
      "text/plain": [
       "<Figure size 1080x1440 with 12 Axes>"
      ]
     },
     "metadata": {
      "needs_background": "light"
     },
     "output_type": "display_data"
    }
   ],
   "source": [
    "data.loc[data['Tenure'].isna()].hist(figsize=(15, 20));"
   ]
  },
  {
   "cell_type": "code",
   "execution_count": 6,
   "metadata": {},
   "outputs": [
    {
     "data": {
      "image/png": "[encoded data removed]",
      "text/plain": [
       "<Figure size 1080x1440 with 12 Axes>"
      ]
     },
     "metadata": {
      "needs_background": "light"
     },
     "output_type": "display_data"
    }
   ],
   "source": [
    "#Теперь посмотрим на то, какие выглядит распределение в целом. \n",
    "data.hist(figsize=(15, 20));"
   ]
  },
  {
   "cell_type": "markdown",
   "metadata": {},
   "source": [
    "Итак, видим, что данные, которые мы планируем удалить в части поведения остальных столбцов не отличаются от остального массива. Также отметим, что данные в удаляемых строяках неоднородные, то есть не видно четких зависимостей. Поскольку заполняя пропуски можем исказить данные, а удалить 9% данных кажется хоть и нежелательным, но приемлемым (с учетом типового характера других полей), то удаляем эти строки."
   ]
  },
  {
   "cell_type": "code",
   "execution_count": 7,
   "metadata": {},
   "outputs": [],
   "source": [
    "data = data.loc[~(data['Tenure'].isna())]"
   ]
  },
  {
   "cell_type": "code",
   "execution_count": 8,
   "metadata": {},
   "outputs": [
    {
     "name": "stdout",
     "output_type": "stream",
     "text": [
      "<class 'pandas.core.frame.DataFrame'>\n",
      "Int64Index: 9091 entries, 0 to 9998\n",
      "Data columns (total 14 columns):\n",
      " #   Column           Non-Null Count  Dtype  \n",
      "---  ------           --------------  -----  \n",
      " 0   RowNumber        9091 non-null   int64  \n",
      " 1   CustomerId       9091 non-null   int64  \n",
      " 2   Surname          9091 non-null   object \n",
      " 3   CreditScore      9091 non-null   int64  \n",
      " 4   Geography        9091 non-null   object \n",
      " 5   Gender           9091 non-null   object \n",
      " 6   Age              9091 non-null   int64  \n",
      " 7   Tenure           9091 non-null   float64\n",
      " 8   Balance          9091 non-null   float64\n",
      " 9   NumOfProducts    9091 non-null   int64  \n",
      " 10  HasCrCard        9091 non-null   int64  \n",
      " 11  IsActiveMember   9091 non-null   int64  \n",
      " 12  EstimatedSalary  9091 non-null   float64\n",
      " 13  Exited           9091 non-null   int64  \n",
      "dtypes: float64(3), int64(8), object(3)\n",
      "memory usage: 1.0+ MB\n"
     ]
    }
   ],
   "source": [
    "data.info()"
   ]
  },
  {
   "cell_type": "code",
   "execution_count": 9,
   "metadata": {},
   "outputs": [],
   "source": [
    "#удаляем ненужные для обсучения столбцы\n",
    "data = data.drop(['RowNumber', 'CustomerId', 'Surname'], axis=1) \n",
    "#определеняем целевой признак\n",
    "target = data['Exited']\n",
    "features = data.drop('Exited', axis=1)"
   ]
  },
  {
   "cell_type": "code",
   "execution_count": 10,
   "metadata": {},
   "outputs": [],
   "source": [
    "features_train, features_test0, target_train, target_test0 = train_test_split(\n",
    "    features, target, test_size=0.4, random_state=12345, stratify=target)"
   ]
  },
  {
   "cell_type": "code",
   "execution_count": 11,
   "metadata": {},
   "outputs": [
    {
     "name": "stdout",
     "output_type": "stream",
     "text": [
      "(5454, 10)\n",
      "(5454,)\n",
      "(3637, 10)\n",
      "(3637,)\n"
     ]
    }
   ],
   "source": [
    "print(features_train.shape)\n",
    "print(target_train.shape)\n",
    "print(features_test0.shape)\n",
    "print(target_test0.shape)"
   ]
  },
  {
   "cell_type": "code",
   "execution_count": 12,
   "metadata": {},
   "outputs": [],
   "source": [
    "features_test, features_valid, target_test, target_valid = train_test_split(\n",
    "    features_test0, target_test0, test_size=0.5, random_state=12345, stratify=target_test0)"
   ]
  },
  {
   "cell_type": "code",
   "execution_count": 13,
   "metadata": {},
   "outputs": [
    {
     "name": "stdout",
     "output_type": "stream",
     "text": [
      "(5454, 10)\n",
      "(5454,)\n",
      "(1818, 10)\n",
      "(1818,)\n",
      "(1819, 10)\n",
      "(1819,)\n"
     ]
    }
   ],
   "source": [
    "print(features_train.shape)\n",
    "print(target_train.shape)\n",
    "print(features_test.shape)\n",
    "print(target_test.shape)\n",
    "print(features_valid.shape)\n",
    "print(target_valid.shape)"
   ]
  },
  {
   "cell_type": "code",
   "execution_count": 14,
   "metadata": {},
   "outputs": [
    {
     "name": "stdout",
     "output_type": "stream",
     "text": [
      "<class 'pandas.core.frame.DataFrame'>\n",
      "Int64Index: 9091 entries, 0 to 9998\n",
      "Data columns (total 11 columns):\n",
      " #   Column           Non-Null Count  Dtype  \n",
      "---  ------           --------------  -----  \n",
      " 0   CreditScore      9091 non-null   int64  \n",
      " 1   Geography        9091 non-null   object \n",
      " 2   Gender           9091 non-null   object \n",
      " 3   Age              9091 non-null   int64  \n",
      " 4   Tenure           9091 non-null   float64\n",
      " 5   Balance          9091 non-null   float64\n",
      " 6   NumOfProducts    9091 non-null   int64  \n",
      " 7   HasCrCard        9091 non-null   int64  \n",
      " 8   IsActiveMember   9091 non-null   int64  \n",
      " 9   EstimatedSalary  9091 non-null   float64\n",
      " 10  Exited           9091 non-null   int64  \n",
      "dtypes: float64(3), int64(6), object(2)\n",
      "memory usage: 852.3+ KB\n"
     ]
    }
   ],
   "source": [
    "data.info()"
   ]
  },
  {
   "cell_type": "code",
   "execution_count": 15,
   "metadata": {},
   "outputs": [],
   "source": [
    "features_train = pd.get_dummies(features_train, drop_first=True)\n",
    "features_valid = pd.get_dummies(features_valid, drop_first=True)\n",
    "features_test = pd.get_dummies(features_test, drop_first=True)"
   ]
  },
  {
   "cell_type": "code",
   "execution_count": 16,
   "metadata": {},
   "outputs": [
    {
     "name": "stdout",
     "output_type": "stream",
     "text": [
      "(5454, 11)\n",
      "(1819, 11)\n",
      "(1818, 11)\n"
     ]
    }
   ],
   "source": [
    "print(features_train.shape)\n",
    "print(features_valid.shape)\n",
    "print(features_test.shape)"
   ]
  },
  {
   "cell_type": "code",
   "execution_count": 17,
   "metadata": {},
   "outputs": [],
   "source": [
    "#Теперь, чтобы модель не путала значения настраиваем масштабирование числовых переменных\n",
    "numeric = ['CreditScore', 'Age', 'Tenure', 'Balance', 'EstimatedSalary']\n",
    "scaler = StandardScaler()\n",
    "scaler.fit(features_train[numeric])\n",
    "features_train[numeric] = scaler.transform(features_train[numeric])\n",
    "features_valid[numeric] = scaler.transform(features_valid[numeric])\n",
    "features_test[numeric] = scaler.transform(features_test[numeric])"
   ]
  },
  {
   "cell_type": "code",
   "execution_count": 18,
   "metadata": {
    "scrolled": true
   },
   "outputs": [
    {
     "name": "stdout",
     "output_type": "stream",
     "text": [
      "0\n",
      "0\n",
      "0\n"
     ]
    }
   ],
   "source": [
    "print(features_train['Tenure'].isnull().sum())\n",
    "print(features_valid['Tenure'].isnull().sum())\n",
    "print(features_test['Tenure'].isnull().sum())"
   ]
  },
  {
   "cell_type": "code",
   "execution_count": 19,
   "metadata": {},
   "outputs": [
    {
     "data": {
      "text/plain": [
       "0.7960620393795999"
      ]
     },
     "execution_count": 19,
     "metadata": {},
     "output_type": "execute_result"
    }
   ],
   "source": [
    "#Смотрим есть ли дисбаланс\n",
    "sum(target/len(target))\n",
    "#то есть количество клиентов, которые перестали пользоваться услугами банка порядка 20%, наблюдается дисбаланс\n",
    "1- sum(target/len(target))"
   ]
  },
  {
   "cell_type": "code",
   "execution_count": 20,
   "metadata": {},
   "outputs": [
    {
     "data": {
      "text/plain": [
       "<function matplotlib.pyplot.show(close=None, block=None)>"
      ]
     },
     "execution_count": 20,
     "metadata": {},
     "output_type": "execute_result"
    },
    {
     "data": {
      "image/png": "[encoded data removed]",
      "text/plain": [
       "<Figure size 720x504 with 1 Axes>"
      ]
     },
     "metadata": {},
     "output_type": "display_data"
    }
   ],
   "source": [
    "types = ['Выход', 'Не выход']\n",
    "data = [sum(target/len(target)), 1- sum(target/len(target))]\n",
    "fig = plt.figure(figsize=(10,7))\n",
    "plt.pie(data, labels=types)\n",
    "plt.show"
   ]
  },
  {
   "cell_type": "markdown",
   "metadata": {},
   "source": [
    "Подвывод: данные отработали, пропуски заполнили, разделили данные на тестовые, валидационные и обучающие.\n",
    "Изучили дисбаланс, нашли, что он есть, ибо большинство клиентов (80%) остаются."
   ]
  },
  {
   "cell_type": "markdown",
   "metadata": {},
   "source": [
    "## Исследование задачи (обучаем без учета урегулирования дисбаланса)"
   ]
  },
  {
   "cell_type": "markdown",
   "metadata": {},
   "source": [
    "Тестируем 3 модели: \n",
    "1. Дерево решений \n",
    "2. Лес\n",
    "3. Логистическая регрессия. "
   ]
  },
  {
   "cell_type": "markdown",
   "metadata": {},
   "source": [
    "### Дерево решений"
   ]
  },
  {
   "cell_type": "code",
   "execution_count": 21,
   "metadata": {
    "scrolled": true
   },
   "outputs": [
    {
     "name": "stdout",
     "output_type": "stream",
     "text": [
      "Оптимальная глубина дерева = 7\n",
      "Качество модели -  0.557659208261618\n",
      "CPU times: user 1.9 s, sys: 6.1 ms, total: 1.9 s\n",
      "Wall time: 1.9 s\n"
     ]
    }
   ],
   "source": [
    "%%time\n",
    "best_model = None\n",
    "best_f1 = 0\n",
    "best_est = 0\n",
    "best_depth = 0\n",
    "for est in range(100, 101, 7):\n",
    "    for depth in range(6, 16):\n",
    "        model = DecisionTreeClassifier(random_state=12345, max_depth=depth)\n",
    "        model.fit(features_train, target_train)\n",
    "        predicted_valid = model.predict(features_valid)\n",
    "        f1 = f1_score(target_valid, predicted_valid)\n",
    "        if f1 > best_f1:\n",
    "            best_model = model\n",
    "            best_f1 = f1\n",
    "            best_depth = depth\n",
    "print('Оптимальная глубина дерева =', best_depth)\n",
    "print('Качество модели - ', best_f1)  "
   ]
  },
  {
   "cell_type": "markdown",
   "metadata": {},
   "source": [
    "### Случайный лес"
   ]
  },
  {
   "cell_type": "code",
   "execution_count": 22,
   "metadata": {},
   "outputs": [
    {
     "name": "stderr",
     "output_type": "stream",
     "text": [
      "100%|██████████| 10/10 [00:55<00:00,  5.60s/it]"
     ]
    },
    {
     "name": "stdout",
     "output_type": "stream",
     "text": [
      "f1 лучшей модели для леса: 0.5785123966942148\n",
      "Глубина для лучшей модели: 18\n",
      "Количество деревьев для лучшей модели: 80\n"
     ]
    },
    {
     "name": "stderr",
     "output_type": "stream",
     "text": [
      "\n"
     ]
    }
   ],
   "source": [
    "best_result = 0\n",
    "best_model = None\n",
    "best_est = 0\n",
    "best_depth = 0\n",
    "results = []\n",
    "for est in tqdm(range(10, 101, 10)):\n",
    "    for depth in range (1, 21):\n",
    "        model = RandomForestClassifier(random_state=12345, n_estimators=est, max_depth=depth) \n",
    "        model.fit(features_train, target_train)\n",
    "        predicted_valid = model.predict(features_valid)\n",
    "        result = f1_score(target_valid, predicted_valid)\n",
    "        results.append({'accuracy': result, 'depth':depth, 'est':est})\n",
    "        if result > best_result:\n",
    "            best_model = model\n",
    "            best_result = result\n",
    "            best_est = est\n",
    "            best_depth = depth\n",
    "print('f1 лучшей модели для леса:', best_result)\n",
    "print('Глубина для лучшей модели:', best_depth)\n",
    "print('Количество деревьев для лучшей модели:', best_est)"
   ]
  },
  {
   "cell_type": "markdown",
   "metadata": {},
   "source": [
    "#3 Добавляем базовые вычисления с логистической регрессией"
   ]
  },
  {
   "cell_type": "code",
   "execution_count": 23,
   "metadata": {},
   "outputs": [
    {
     "name": "stdout",
     "output_type": "stream",
     "text": [
      "f1 логистической регрессии (c балансированными весами): 0.35203094777562866\n"
     ]
    }
   ],
   "source": [
    "model = LogisticRegression(random_state=12345, solver='lbfgs', max_iter=1000)\n",
    "model.fit(features_train, target_train)\n",
    "predicted_valid = model.predict(features_valid)\n",
    "result = f1_score(target_valid, predicted_valid)\n",
    "\n",
    "print('f1 логистической регрессии (c балансированными весами):', result)"
   ]
  },
  {
   "cell_type": "markdown",
   "metadata": {},
   "source": [
    "Вывод: Без устранения дисбаланса лучше всего себя показала модель случайного леса, \n",
    "достигшая f1 = 0.578 с глубиной 18 и количеством деревьев 80"
   ]
  },
  {
   "cell_type": "markdown",
   "metadata": {},
   "source": [
    "## Борьба с дисбалансом"
   ]
  },
  {
   "cell_type": "markdown",
   "metadata": {},
   "source": [
    "Количество выходов в 4 раза меньше, чем количество не выходов, соответственно, чтобы сбалансировать необходимо увеличить количество выходов в 4 раза/ уменьшить количество невыходов в 4 раза."
   ]
  },
  {
   "cell_type": "code",
   "execution_count": 24,
   "metadata": {
    "scrolled": true
   },
   "outputs": [
    {
     "name": "stdout",
     "output_type": "stream",
     "text": [
      "1    0.50603\n",
      "0    0.49397\n",
      "Name: Exited, dtype: float64\n",
      "(8790,)\n"
     ]
    }
   ],
   "source": [
    "#1. Используем апсэмплинг\n",
    "def upsample(features, target, repeat):\n",
    "    features_zeros = features[target == 0]\n",
    "    features_ones = features[target == 1]\n",
    "    target_zeros = target[target == 0]\n",
    "    target_ones = target[target == 1]\n",
    "\n",
    "    features_upsampled = pd.concat([features_zeros] + [features_ones] * repeat)\n",
    "    target_upsampled = pd.concat([target_zeros] + [target_ones] * repeat)\n",
    "    \n",
    "    features_upsampled, target_upsampled = shuffle(\n",
    "        features_upsampled, target_upsampled, random_state=12345)\n",
    "    \n",
    "    return features_upsampled, target_upsampled\n",
    "features_upsampled, target_upsampled = upsample(features_train, target_train, 4)\n",
    "print(target_upsampled.value_counts(normalize = 1))\n",
    "print(target_upsampled.shape)"
   ]
  },
  {
   "cell_type": "markdown",
   "metadata": {},
   "source": [
    "Проверили успешность апсэмплинга, получилось"
   ]
  },
  {
   "cell_type": "code",
   "execution_count": 25,
   "metadata": {
    "scrolled": true
   },
   "outputs": [
    {
     "name": "stdout",
     "output_type": "stream",
     "text": [
      "1    0.505914\n",
      "0    0.494086\n",
      "Name: Exited, dtype: float64\n",
      "(2198,)\n"
     ]
    }
   ],
   "source": [
    "#2 Используем downsampling\n",
    "def downsample(features, target, fraction):\n",
    "    features_zeros = features[target == 0]\n",
    "    features_ones = features[target == 1]\n",
    "    target_zeros = target[target == 0]\n",
    "    target_ones = target[target == 1]\n",
    "\n",
    "    features_downsampled = pd.concat(\n",
    "        [features_zeros.sample(frac=fraction, random_state=12345)] + [features_ones])\n",
    "    target_downsampled = pd.concat(\n",
    "        [target_zeros.sample(frac=fraction, random_state=12345)] + [target_ones])\n",
    "    \n",
    "    features_downsampled, target_downsampled = shuffle(\n",
    "        features_downsampled, target_downsampled, random_state=12345)\n",
    "    \n",
    "    return features_downsampled, target_downsampled\n",
    "features_downsampled, target_downsampled = downsample(features_train, target_train, 0.25)\n",
    "print(target_downsampled.value_counts(normalize = 1))\n",
    "print(target_downsampled.shape)"
   ]
  },
  {
   "cell_type": "code",
   "execution_count": null,
   "metadata": {},
   "outputs": [],
   "source": [
    "Проверили успешность даунсемплинга, получилось"
   ]
  },
  {
   "cell_type": "code",
   "execution_count": 27,
   "metadata": {},
   "outputs": [
    {
     "name": "stderr",
     "output_type": "stream",
     "text": [
      "100%|██████████| 10/10 [01:16<00:00,  7.69s/it]"
     ]
    },
    {
     "name": "stdout",
     "output_type": "stream",
     "text": [
      "f1 лучшей модели для леса: 0.6115007012622721\n",
      "Глубина для лучшей модели: 13\n",
      "Количество деревьев для лучшей модели: 30\n"
     ]
    },
    {
     "name": "stderr",
     "output_type": "stream",
     "text": [
      "\n"
     ]
    }
   ],
   "source": [
    "#1 Перепроверяем случайный лес с учетом калибровки (предыдущие результаты: Оптимальное количество оценок = 71, \n",
    "# Оптимальная глубина дерева = 11, Качество модели -  0.5803108808290156)\n",
    "  #1.1. При апсэмплинге: \n",
    "\n",
    "best_result = 0\n",
    "best_model = None\n",
    "best_est = 0\n",
    "best_depth = 0\n",
    "results = []\n",
    "for est in tqdm(range(10, 101, 10)):\n",
    "    for depth in range (1, 21):\n",
    "        model = RandomForestClassifier(random_state=12345, n_estimators=est, max_depth=depth) \n",
    "        model.fit(features_upsampled, target_upsampled)\n",
    "        predicted_valid = model.predict(features_valid)\n",
    "        result = f1_score(target_valid, predicted_valid)\n",
    "        results.append({'accuracy': result, 'depth':depth, 'est':est})\n",
    "        if result > best_result:\n",
    "            best_model = model\n",
    "            best_result = result\n",
    "            best_est = est\n",
    "            best_depth = depth\n",
    "print('f1 лучшей модели для леса:', best_result)\n",
    "print('Глубина для лучшей модели:', best_depth)\n",
    "print('Количество деревьев для лучшей модели:', best_est)    "
   ]
  },
  {
   "cell_type": "code",
   "execution_count": 28,
   "metadata": {
    "scrolled": true
   },
   "outputs": [
    {
     "name": "stderr",
     "output_type": "stream",
     "text": [
      "100%|██████████| 10/10 [00:31<00:00,  3.14s/it]"
     ]
    },
    {
     "name": "stdout",
     "output_type": "stream",
     "text": [
      "f1 лучшей модели для леса: 0.5862068965517241\n",
      "Глубина для лучшей модели: 8\n",
      "Количество деревьев для лучшей модели: 10\n"
     ]
    },
    {
     "name": "stderr",
     "output_type": "stream",
     "text": [
      "\n"
     ]
    }
   ],
   "source": [
    "  #1.2. При даунсэмплинге: \n",
    "best_result = 0\n",
    "best_model = None\n",
    "best_est = 0\n",
    "best_depth = 0\n",
    "results = []\n",
    "for est in tqdm(range(10, 101, 10)):\n",
    "    for depth in range (1, 21):\n",
    "        model = RandomForestClassifier(random_state=12345, n_estimators=est, max_depth=depth) \n",
    "        model.fit(features_downsampled, target_downsampled)\n",
    "        predicted_valid = model.predict(features_valid)\n",
    "        result = f1_score(target_valid, predicted_valid)\n",
    "        results.append({'accuracy': result, 'depth':depth, 'est':est})\n",
    "        if result > best_result:\n",
    "            best_model = model\n",
    "            best_result = result\n",
    "            best_est = est\n",
    "            best_depth = depth\n",
    "print('f1 лучшей модели для леса:', best_result)\n",
    "print('Глубина для лучшей модели:', best_depth)\n",
    "print('Количество деревьев для лучшей модели:', best_est) "
   ]
  },
  {
   "cell_type": "markdown",
   "metadata": {},
   "source": [
    "подвывод по случайному лесу: \n",
    "Было:\n",
    "f1 лучшей модели для леса: 0.5785123966942148\n",
    "Глубина для лучшей модели: 18\n",
    "Количество деревьев для лучшей модели: 80\n",
    "\n",
    "Стало (с апсэмплингом эффективней):\n",
    "f1 лучшей модели для леса: 0.6115007012622721\n",
    "Глубина для лучшей модели: 13\n",
    "Количество деревьев для лучшей модели: 30"
   ]
  },
  {
   "cell_type": "markdown",
   "metadata": {},
   "source": []
  },
  {
   "cell_type": "code",
   "execution_count": 30,
   "metadata": {},
   "outputs": [
    {
     "name": "stdout",
     "output_type": "stream",
     "text": [
      "Оптимальная глубина дерева = 8\n",
      "Качество модели -  0.5711060948081264\n"
     ]
    }
   ],
   "source": [
    "#2 Перепроверяем десижн три с учетом калибровки (предыдущие результаты: Оптимальная глубина дерева = 7, \n",
    "# Качество модели -  0.5340314136125655)\n",
    "  #1.1. При апсэмплинге: \n",
    "\n",
    "best_model = None\n",
    "best_f1 = 0\n",
    "best_est = 0\n",
    "best_depth = 0\n",
    "for est in range(50, 101, 7):\n",
    "    for depth in range(6, 16):\n",
    "        model = DecisionTreeClassifier(random_state=12345, max_depth=depth)\n",
    "        model.fit(features_upsampled, target_upsampled)\n",
    "        predicted_valid = model.predict(features_valid)\n",
    "        f1 = f1_score(target_valid, predicted_valid)\n",
    "        if f1 > best_f1:\n",
    "            best_model = model\n",
    "            best_f1 = f1\n",
    "            best_depth = depth\n",
    "print('Оптимальная глубина дерева =', best_depth)\n",
    "print('Качество модели - ', best_f1)\n"
   ]
  },
  {
   "cell_type": "code",
   "execution_count": 31,
   "metadata": {},
   "outputs": [
    {
     "name": "stdout",
     "output_type": "stream",
     "text": [
      "Оптимальная глубина дерева = 6\n",
      "Качество модели -  0.5571725571725571\n"
     ]
    }
   ],
   "source": [
    "  #1.2. При даунсэмплинге:\n",
    "\n",
    "\n",
    "best_model = None\n",
    "best_f1 = 0\n",
    "best_est = 0\n",
    "best_depth = 0\n",
    "for est in range(50, 101, 7):\n",
    "    for depth in range(6, 16):\n",
    "        model = DecisionTreeClassifier(random_state=12345, max_depth=depth)\n",
    "        model.fit(features_downsampled, target_downsampled)\n",
    "        predicted_valid = model.predict(features_valid)\n",
    "        f1 = f1_score(target_valid, predicted_valid)\n",
    "        if f1 > best_f1:\n",
    "            best_model = model\n",
    "            best_f1 = f1\n",
    "            best_depth = depth\n",
    "print('Оптимальная глубина дерева =', best_depth)\n",
    "print('Качество модели - ', best_f1)\n"
   ]
  },
  {
   "cell_type": "markdown",
   "metadata": {},
   "source": [
    "Подвывод по решающему дереву:\n",
    "Было:\n",
    "Оптимальная глубина дерева = 7\n",
    "Качество модели -  0.557659208261618\n",
    "CPU times: user 1.9 s, sys: 6.1 ms, total: 1.9 s\n",
    "Wall time: 1.9 s\n",
    "\n",
    "Стало:\n",
    "Оптимальная глубина дерева = 8\n",
    "Качество модели -  0.5711060948081264\n",
    "\n",
    "Вывод: с апсэмплингом лучше, но уступает случайному лесу"
   ]
  },
  {
   "cell_type": "code",
   "execution_count": null,
   "metadata": {},
   "outputs": [],
   "source": [
    "#3 Перепроверяем логичстическую регрессию с учетом калибровки (предыдущие результаты: Оптимальная глубина дерева = 7, \n",
    "# Качество модели -  0.5340314136125655)\n",
    "  #1.1. При апсэмплинге: "
   ]
  },
  {
   "cell_type": "code",
   "execution_count": 40,
   "metadata": {},
   "outputs": [
    {
     "name": "stdout",
     "output_type": "stream",
     "text": [
      "f1 логистической регрессии (c балансированными весами): 0.5038022813688213\n"
     ]
    }
   ],
   "source": [
    "model = LogisticRegression(random_state=12345, solver='lbfgs', max_iter=1000)\n",
    "model.fit(features_upsampled, target_upsampled)\n",
    "predicted_valid = model.predict(features_valid)\n",
    "result = f1_score(target_valid, predicted_valid)\n",
    "\n",
    "print('f1 логистической регрессии (c балансированными весами):', result)"
   ]
  },
  {
   "cell_type": "code",
   "execution_count": 35,
   "metadata": {},
   "outputs": [
    {
     "name": "stdout",
     "output_type": "stream",
     "text": [
      "f1 логистической регрессии (c балансированными весами): 0.5089538171536288\n"
     ]
    }
   ],
   "source": [
    "model = LogisticRegression(random_state=12345, solver='lbfgs', max_iter=1000)\n",
    "model.fit(features_downsampled, target_downsampled)\n",
    "predicted_valid = model.predict(features_valid)\n",
    "result = f1_score(target_valid, predicted_valid)\n",
    "\n",
    "print('f1 логистической регрессии (c балансированными весами):', result)\n"
   ]
  },
  {
   "cell_type": "code",
   "execution_count": 39,
   "metadata": {},
   "outputs": [
    {
     "name": "stdout",
     "output_type": "stream",
     "text": [
      "f1 логистической регрессии (c балансированными весами): 0.5082125603864733\n"
     ]
    }
   ],
   "source": [
    "#теперь сбалансированный в гиперпараметре\n",
    "\n",
    "model = LogisticRegression(random_state=12345, solver='lbfgs', max_iter=1000, class_weight='balanced')\n",
    "model.fit(features_train, target_train)\n",
    "predicted_valid = model.predict(features_valid)\n",
    "result = f1_score(target_valid, predicted_valid)\n",
    "\n",
    "print('f1 логистической регрессии (c балансированными весами):', result)\n"
   ]
  },
  {
   "cell_type": "markdown",
   "metadata": {},
   "source": [
    "Подвывод по логистической регрессии:  \n",
    "\n",
    "Было: Вывод: Без устранения дисбаланса лучше всего себя показала модель случайного леса, \n",
    "достигшая f1 = 0.578 с глубиной 18 и количеством деревьев 80\n",
    "\n",
    "Стало (лучшая при наунсэмплинге): 0.5089538171536288"
   ]
  },
  {
   "cell_type": "markdown",
   "metadata": {},
   "source": [
    "Вывод: рэндом форест при апсэмплинге работает лучше всего, результат хороший: 0.6115007012622721."
   ]
  },
  {
   "cell_type": "markdown",
   "metadata": {},
   "source": [
    "Итак, результаты удовлетворяют параметрам проекта, оставляем"
   ]
  },
  {
   "cell_type": "code",
   "execution_count": 42,
   "metadata": {},
   "outputs": [
    {
     "name": "stdout",
     "output_type": "stream",
     "text": [
      "Порог = 0.00 | Точность = 0.204, Полнота = 1.000, f1 = 0.339\n",
      "Порог = 0.02 | Точность = 0.204, Полнота = 1.000, f1 = 0.339\n",
      "Порог = 0.04 | Точность = 0.204, Полнота = 1.000, f1 = 0.339\n",
      "Порог = 0.06 | Точность = 0.204, Полнота = 0.997, f1 = 0.339\n",
      "Порог = 0.08 | Точность = 0.205, Полнота = 0.997, f1 = 0.340\n",
      "Порог = 0.10 | Точность = 0.207, Полнота = 0.995, f1 = 0.343\n",
      "Порог = 0.12 | Точность = 0.210, Полнота = 0.992, f1 = 0.347\n",
      "Порог = 0.14 | Точность = 0.214, Полнота = 0.989, f1 = 0.352\n",
      "Порог = 0.16 | Точность = 0.218, Полнота = 0.984, f1 = 0.356\n",
      "Порог = 0.18 | Точность = 0.222, Полнота = 0.978, f1 = 0.362\n",
      "Порог = 0.20 | Точность = 0.228, Полнота = 0.970, f1 = 0.369\n",
      "Порог = 0.22 | Точность = 0.235, Полнота = 0.965, f1 = 0.378\n",
      "Порог = 0.24 | Точность = 0.243, Полнота = 0.962, f1 = 0.388\n",
      "Порог = 0.26 | Точность = 0.252, Полнота = 0.951, f1 = 0.398\n",
      "Порог = 0.28 | Точность = 0.258, Полнота = 0.941, f1 = 0.405\n",
      "Порог = 0.30 | Точность = 0.267, Полнота = 0.930, f1 = 0.415\n",
      "Порог = 0.32 | Точность = 0.279, Полнота = 0.919, f1 = 0.428\n",
      "Порог = 0.34 | Точность = 0.287, Полнота = 0.898, f1 = 0.435\n",
      "Порог = 0.36 | Точность = 0.299, Полнота = 0.889, f1 = 0.447\n",
      "Порог = 0.38 | Точность = 0.311, Полнота = 0.873, f1 = 0.459\n",
      "Порог = 0.40 | Точность = 0.322, Полнота = 0.844, f1 = 0.466\n",
      "Порог = 0.42 | Точность = 0.336, Полнота = 0.827, f1 = 0.477\n",
      "Порог = 0.44 | Точность = 0.350, Полнота = 0.798, f1 = 0.486\n",
      "Порог = 0.46 | Точность = 0.364, Полнота = 0.768, f1 = 0.494\n",
      "Порог = 0.48 | Точность = 0.370, Полнота = 0.736, f1 = 0.492\n",
      "Порог = 0.50 | Точность = 0.389, Полнота = 0.714, f1 = 0.504\n",
      "Порог = 0.52 | Точность = 0.399, Полнота = 0.677, f1 = 0.502\n",
      "Порог = 0.54 | Точность = 0.418, Полнота = 0.647, f1 = 0.508\n",
      "Порог = 0.56 | Точность = 0.433, Полнота = 0.625, f1 = 0.512\n",
      "Порог = 0.58 | Точность = 0.442, Полнота = 0.580, f1 = 0.502\n",
      "Порог = 0.60 | Точность = 0.449, Полнота = 0.547, f1 = 0.493\n",
      "Порог = 0.62 | Точность = 0.472, Полнота = 0.526, f1 = 0.497\n",
      "Порог = 0.64 | Точность = 0.490, Полнота = 0.504, f1 = 0.497\n",
      "Порог = 0.66 | Точность = 0.506, Полнота = 0.469, f1 = 0.487\n",
      "Порог = 0.68 | Точность = 0.510, Полнота = 0.423, f1 = 0.462\n"
     ]
    }
   ],
   "source": [
    "probabilities_valid = model.predict_proba(features_valid)\n",
    "probabilities_one_valid = probabilities_valid[:, 1]\n",
    "for threshold in np.arange(0, 0.7, 0.02):\n",
    "    predicted_valid = probabilities_one_valid > threshold \n",
    "    precision = precision_score(target_valid, predicted_valid) \n",
    "    recall = recall_score(target_valid, predicted_valid) \n",
    "    f1 = f1_score(target_valid, predicted_valid)\n",
    "    print(\"Порог = {:.2f} | Точность = {:.3f}, Полнота = {:.3f}, f1 = {:.3f}\".format(\n",
    "        threshold, precision, recall, f1))"
   ]
  },
  {
   "cell_type": "markdown",
   "metadata": {},
   "source": [
    "Лучшее Порог = 0.56 | Точность = 0.433, Полнота = 0.625, f1 = 0.512 (портит значение)"
   ]
  },
  {
   "cell_type": "code",
   "execution_count": 43,
   "metadata": {},
   "outputs": [
    {
     "name": "stdout",
     "output_type": "stream",
     "text": [
      "0.7781529686825215\n"
     ]
    }
   ],
   "source": [
    "auc_roc = roc_auc_score(target_valid, probabilities_one_valid)\n",
    "\n",
    "print(auc_roc)"
   ]
  },
  {
   "cell_type": "code",
   "execution_count": 44,
   "metadata": {},
   "outputs": [
    {
     "data": {
      "text/plain": [
       "[<matplotlib.lines.Line2D at 0x7f586f5483d0>]"
      ]
     },
     "execution_count": 44,
     "metadata": {},
     "output_type": "execute_result"
    },
    {
     "data": {
      "image/png": "[encoded data removed]",
      "text/plain": [
       "<Figure size 432x288 with 1 Axes>"
      ]
     },
     "metadata": {
      "needs_background": "light"
     },
     "output_type": "display_data"
    }
   ],
   "source": [
    "fpr, tpr, thresholds = roc_curve(target_valid, probabilities_one_valid)  \n",
    "\n",
    "plt.figure()\n",
    "plt.plot(fpr, tpr)\n",
    "plt.xlim([0.0, 1.0])\n",
    "plt.ylim([0.0, 1.0])\n",
    "plt.xlabel('False Positive Rate')\n",
    "plt.ylabel('True Positive Rate')\n",
    "plt.title('ROC-кривая')\n",
    "\n",
    "plt.plot([0, 1], [0, 1], linestyle='--')\n"
   ]
  },
  {
   "cell_type": "markdown",
   "metadata": {},
   "source": [
    "AUC ROC выше 0.5, но не дотягивает до 1, в целом значение неплохое"
   ]
  },
  {
   "cell_type": "markdown",
   "metadata": {},
   "source": [
    "## Тестирование модели"
   ]
  },
  {
   "cell_type": "code",
   "execution_count": 45,
   "metadata": {},
   "outputs": [
    {
     "name": "stdout",
     "output_type": "stream",
     "text": [
      "F1: 0.6058981233243967\n"
     ]
    }
   ],
   "source": [
    "model=RandomForestClassifier(random_state=12345, n_estimators=30, max_depth=13)\n",
    "model.fit(features_upsampled, target_upsampled)\n",
    "predicted_valid = model.predict(features_test)\n",
    "\n",
    "print(\"F1:\", f1_score(target_test, predicted_valid))\n",
    "#f1 на тестовой уже значительно ниже, чем при обучении\n"
   ]
  },
  {
   "cell_type": "markdown",
   "metadata": {},
   "source": [
    "На тестовой выборке удалось достичь неплохого значения f1, удовлетворяет требованиям работы"
   ]
  },
  {
   "cell_type": "markdown",
   "metadata": {},
   "source": [
    "## Чек-лист готовности проекта"
   ]
  },
  {
   "cell_type": "markdown",
   "metadata": {},
   "source": [
    "Поставьте 'x' в выполненных пунктах. Далее нажмите Shift+Enter."
   ]
  },
  {
   "cell_type": "markdown",
   "metadata": {},
   "source": [
    "- [x]  Jupyter Notebook открыт\n",
    "- [x]  Весь код выполняется без ошибок\n",
    "- [x]  Ячейки с кодом расположены в порядке исполнения\n",
    "- [x]  Выполнен шаг 1: данные подготовлены\n",
    "- [x]  Выполнен шаг 2: задача исследована\n",
    "    - [x]  Исследован баланс классов\n",
    "    - [x]  Изучены модели без учёта дисбаланса\n",
    "    - [x]  Написаны выводы по результатам исследования\n",
    "- [x]  Выполнен шаг 3: учтён дисбаланс\n",
    "    - [x]  Применено несколько способов борьбы с дисбалансом\n",
    "    - [x]  Написаны выводы по результатам исследования\n",
    "- [x]  Выполнен шаг 4: проведено тестирование\n",
    "- [x]  Удалось достичь *F1*-меры не менее 0.59\n",
    "- [x]  Исследована метрика *AUC-ROC*"
   ]
  },
  {
   "cell_type": "markdown",
   "metadata": {},
   "source": [
    "Общий вывод по итогам проекта: \n",
    "Мы провели работу с данными, заполнили пропуски. \n",
    "Выбрали наилучшую модель, на этой модели работали с дисбалансом классов и с помощью апсемплинга дотянули f1 до приемлемго уровня (0.61). \n",
    "На тестовой выборке уже f1 немного испортился, но все равно ок 0.6058. Задача выполнена."
   ]
  },
  {
   "cell_type": "code",
   "execution_count": null,
   "metadata": {},
   "outputs": [],
   "source": []
  }
 ],
 "metadata": {
  "ExecuteTimeLog": [
   {
    "duration": 476,
    "start_time": "2023-10-04T12:07:53.464Z"
   },
   {
    "duration": 118,
    "start_time": "2023-10-04T12:08:22.004Z"
   },
   {
    "duration": 88,
    "start_time": "2023-10-04T12:08:31.685Z"
   },
   {
    "duration": 51,
    "start_time": "2023-10-04T12:28:04.460Z"
   },
   {
    "duration": 92,
    "start_time": "2023-10-04T12:28:15.905Z"
   },
   {
    "duration": 3,
    "start_time": "2023-10-04T12:28:18.979Z"
   },
   {
    "duration": 19,
    "start_time": "2023-10-04T12:28:28.385Z"
   },
   {
    "duration": 14,
    "start_time": "2023-10-04T12:31:25.897Z"
   },
   {
    "duration": 73,
    "start_time": "2023-10-04T15:07:37.028Z"
   },
   {
    "duration": 13,
    "start_time": "2023-10-04T15:07:44.504Z"
   },
   {
    "duration": 7,
    "start_time": "2023-10-04T15:07:51.424Z"
   },
   {
    "duration": 5,
    "start_time": "2023-10-04T15:07:56.672Z"
   },
   {
    "duration": 6,
    "start_time": "2023-10-04T15:08:03.896Z"
   },
   {
    "duration": 6,
    "start_time": "2023-10-04T15:08:15.682Z"
   },
   {
    "duration": 6,
    "start_time": "2023-10-04T15:46:39.910Z"
   },
   {
    "duration": 5,
    "start_time": "2023-10-04T15:48:04.015Z"
   },
   {
    "duration": 5,
    "start_time": "2023-10-04T15:49:15.936Z"
   },
   {
    "duration": 4,
    "start_time": "2023-10-04T15:49:23.522Z"
   },
   {
    "duration": 4,
    "start_time": "2023-10-04T15:49:26.871Z"
   },
   {
    "duration": 2,
    "start_time": "2023-10-04T15:50:12.352Z"
   },
   {
    "duration": 3,
    "start_time": "2023-10-04T15:53:18.746Z"
   },
   {
    "duration": 432,
    "start_time": "2023-10-07T17:35:50.225Z"
   },
   {
    "duration": 92,
    "start_time": "2023-10-07T17:35:52.504Z"
   },
   {
    "duration": 3,
    "start_time": "2023-10-07T17:35:56.028Z"
   },
   {
    "duration": 18,
    "start_time": "2023-10-07T17:35:59.797Z"
   },
   {
    "duration": 5,
    "start_time": "2023-10-07T17:36:10.895Z"
   },
   {
    "duration": 5,
    "start_time": "2023-10-07T17:36:15.000Z"
   },
   {
    "duration": 12,
    "start_time": "2023-10-07T18:10:52.274Z"
   },
   {
    "duration": 5,
    "start_time": "2023-10-07T18:16:32.636Z"
   },
   {
    "duration": 61,
    "start_time": "2023-10-07T18:20:33.661Z"
   },
   {
    "duration": 795,
    "start_time": "2023-10-07T18:20:47.858Z"
   },
   {
    "duration": 58,
    "start_time": "2023-10-07T18:20:50.977Z"
   },
   {
    "duration": 6,
    "start_time": "2023-10-07T18:24:45.716Z"
   },
   {
    "duration": 6,
    "start_time": "2023-10-07T18:25:45.381Z"
   },
   {
    "duration": 40,
    "start_time": "2023-10-07T18:30:21.745Z"
   },
   {
    "duration": 1554,
    "start_time": "2023-10-07T18:30:29.947Z"
   },
   {
    "duration": 10,
    "start_time": "2023-10-07T18:31:17.298Z"
   },
   {
    "duration": 1610,
    "start_time": "2023-10-07T18:32:22.173Z"
   },
   {
    "duration": 1618,
    "start_time": "2023-10-07T18:32:43.152Z"
   },
   {
    "duration": 120,
    "start_time": "2023-10-07T18:32:51.570Z"
   },
   {
    "duration": 632,
    "start_time": "2023-10-07T18:34:26.568Z"
   },
   {
    "duration": 988,
    "start_time": "2023-10-07T18:35:10.033Z"
   },
   {
    "duration": 390,
    "start_time": "2023-10-07T18:35:45.495Z"
   },
   {
    "duration": 986,
    "start_time": "2023-10-07T18:43:37.865Z"
   },
   {
    "duration": 1191,
    "start_time": "2023-10-07T18:43:53.601Z"
   },
   {
    "duration": 401,
    "start_time": "2023-10-07T18:44:16.680Z"
   },
   {
    "duration": 5,
    "start_time": "2023-10-07T18:44:31.374Z"
   },
   {
    "duration": 1098,
    "start_time": "2023-10-07T18:44:51.129Z"
   },
   {
    "duration": 53,
    "start_time": "2023-10-07T18:44:52.745Z"
   },
   {
    "duration": 3,
    "start_time": "2023-10-07T18:44:55.203Z"
   },
   {
    "duration": 14,
    "start_time": "2023-10-07T18:44:56.764Z"
   },
   {
    "duration": 4,
    "start_time": "2023-10-07T18:44:59.579Z"
   },
   {
    "duration": 6,
    "start_time": "2023-10-07T18:45:01.196Z"
   },
   {
    "duration": 6,
    "start_time": "2023-10-07T18:45:03.126Z"
   },
   {
    "duration": 389,
    "start_time": "2023-10-07T18:45:04.994Z"
   },
   {
    "duration": 9,
    "start_time": "2023-10-07T18:48:03.368Z"
   },
   {
    "duration": 10,
    "start_time": "2023-10-07T18:57:55.921Z"
   },
   {
    "duration": 93,
    "start_time": "2023-10-07T19:04:02.530Z"
   },
   {
    "duration": 22,
    "start_time": "2023-10-07T19:04:14.663Z"
   },
   {
    "duration": 21,
    "start_time": "2023-10-07T19:04:26.097Z"
   },
   {
    "duration": 8,
    "start_time": "2023-10-07T19:05:21.441Z"
   },
   {
    "duration": 199,
    "start_time": "2023-10-07T19:05:56.639Z"
   },
   {
    "duration": 200,
    "start_time": "2023-10-07T19:06:06.853Z"
   },
   {
    "duration": 187,
    "start_time": "2023-10-07T19:06:44.786Z"
   },
   {
    "duration": 4,
    "start_time": "2023-10-07T19:06:46.985Z"
   },
   {
    "duration": 9,
    "start_time": "2023-10-07T19:06:48.644Z"
   },
   {
    "duration": 6,
    "start_time": "2023-10-07T19:06:50.769Z"
   },
   {
    "duration": 7,
    "start_time": "2023-10-07T19:06:52.871Z"
   },
   {
    "duration": 5,
    "start_time": "2023-10-07T19:06:54.991Z"
   },
   {
    "duration": 433,
    "start_time": "2023-10-07T19:06:57.749Z"
   },
   {
    "duration": 4,
    "start_time": "2023-10-07T19:07:07.251Z"
   },
   {
    "duration": 20,
    "start_time": "2023-10-07T19:07:32.701Z"
   },
   {
    "duration": 22,
    "start_time": "2023-10-07T19:08:07.992Z"
   },
   {
    "duration": 20,
    "start_time": "2023-10-07T19:08:32.596Z"
   },
   {
    "duration": 3,
    "start_time": "2023-10-07T19:09:01.550Z"
   },
   {
    "duration": 16,
    "start_time": "2023-10-07T19:09:26.455Z"
   },
   {
    "duration": 1122,
    "start_time": "2023-10-07T19:32:51.577Z"
   },
   {
    "duration": 66,
    "start_time": "2023-10-07T19:32:55.182Z"
   },
   {
    "duration": 3,
    "start_time": "2023-10-07T19:32:58.186Z"
   },
   {
    "duration": 3,
    "start_time": "2023-10-07T19:33:07.404Z"
   },
   {
    "duration": 16,
    "start_time": "2023-10-07T19:33:09.076Z"
   },
   {
    "duration": 199,
    "start_time": "2023-10-07T19:33:11.953Z"
   },
   {
    "duration": 4,
    "start_time": "2023-10-07T19:33:20.275Z"
   },
   {
    "duration": 112,
    "start_time": "2023-10-07T19:35:07.608Z"
   },
   {
    "duration": 201,
    "start_time": "2023-10-07T19:35:18.449Z"
   },
   {
    "duration": 6,
    "start_time": "2023-10-07T19:35:20.841Z"
   },
   {
    "duration": 15,
    "start_time": "2023-10-07T19:35:24.086Z"
   },
   {
    "duration": 196,
    "start_time": "2023-10-07T19:35:55.677Z"
   },
   {
    "duration": 40,
    "start_time": "2023-10-07T19:36:53.318Z"
   },
   {
    "duration": 3,
    "start_time": "2023-10-07T19:37:44.100Z"
   },
   {
    "duration": 1220,
    "start_time": "2023-10-07T19:37:52.542Z"
   },
   {
    "duration": 60,
    "start_time": "2023-10-07T19:37:55.983Z"
   },
   {
    "duration": 3,
    "start_time": "2023-10-07T19:37:58.767Z"
   },
   {
    "duration": 13,
    "start_time": "2023-10-07T19:38:00.798Z"
   },
   {
    "duration": 3,
    "start_time": "2023-10-07T19:38:34.692Z"
   },
   {
    "duration": 4,
    "start_time": "2023-10-07T19:38:48.403Z"
   },
   {
    "duration": 113,
    "start_time": "2023-10-07T19:38:52.672Z"
   },
   {
    "duration": 10,
    "start_time": "2023-10-07T19:38:57.701Z"
   },
   {
    "duration": 4,
    "start_time": "2023-10-07T19:39:03.781Z"
   },
   {
    "duration": 6,
    "start_time": "2023-10-07T19:39:07.499Z"
   },
   {
    "duration": 7,
    "start_time": "2023-10-07T19:39:09.592Z"
   },
   {
    "duration": 9,
    "start_time": "2023-10-07T19:39:12.480Z"
   },
   {
    "duration": 471,
    "start_time": "2023-10-07T19:39:40.210Z"
   },
   {
    "duration": 4,
    "start_time": "2023-10-07T19:39:43.678Z"
   },
   {
    "duration": 1224,
    "start_time": "2023-10-07T19:44:38.723Z"
   },
   {
    "duration": 63,
    "start_time": "2023-10-07T19:44:42.357Z"
   },
   {
    "duration": 6,
    "start_time": "2023-10-07T19:44:47.047Z"
   },
   {
    "duration": 12,
    "start_time": "2023-10-07T19:44:51.681Z"
   },
   {
    "duration": 9,
    "start_time": "2023-10-07T19:45:06.843Z"
   },
   {
    "duration": 4,
    "start_time": "2023-10-07T19:45:11.790Z"
   },
   {
    "duration": 8,
    "start_time": "2023-10-07T19:45:16.863Z"
   },
   {
    "duration": 9,
    "start_time": "2023-10-07T19:45:19.798Z"
   },
   {
    "duration": 10,
    "start_time": "2023-10-07T19:45:26.684Z"
   },
   {
    "duration": 101,
    "start_time": "2023-10-07T19:46:21.551Z"
   },
   {
    "duration": 5,
    "start_time": "2023-10-07T19:46:32.759Z"
   },
   {
    "duration": 4,
    "start_time": "2023-10-07T19:46:59.562Z"
   },
   {
    "duration": 12,
    "start_time": "2023-10-07T19:47:22.904Z"
   },
   {
    "duration": 13,
    "start_time": "2023-10-07T19:48:24.245Z"
   },
   {
    "duration": 5,
    "start_time": "2023-10-07T19:56:57.377Z"
   },
   {
    "duration": 105,
    "start_time": "2023-10-07T19:57:07.009Z"
   },
   {
    "duration": 132,
    "start_time": "2023-10-07T19:57:10.318Z"
   },
   {
    "duration": 5,
    "start_time": "2023-10-07T19:57:16.473Z"
   },
   {
    "duration": 229,
    "start_time": "2023-10-07T19:58:46.152Z"
   },
   {
    "duration": 5,
    "start_time": "2023-10-07T19:58:57.293Z"
   },
   {
    "duration": 209,
    "start_time": "2023-10-07T19:59:06.323Z"
   },
   {
    "duration": 2675,
    "start_time": "2023-10-07T19:59:08.120Z"
   },
   {
    "duration": 182,
    "start_time": "2023-10-07T19:59:24.600Z"
   },
   {
    "duration": 40,
    "start_time": "2023-10-07T19:59:38.629Z"
   },
   {
    "duration": 17,
    "start_time": "2023-10-07T19:59:44.263Z"
   },
   {
    "duration": 5,
    "start_time": "2023-10-07T20:00:57.063Z"
   },
   {
    "duration": 12,
    "start_time": "2023-10-07T20:01:04.364Z"
   },
   {
    "duration": 8,
    "start_time": "2023-10-07T20:01:09.090Z"
   },
   {
    "duration": 4,
    "start_time": "2023-10-07T20:01:11.399Z"
   },
   {
    "duration": 190,
    "start_time": "2023-10-07T20:01:17.808Z"
   },
   {
    "duration": 18,
    "start_time": "2023-10-07T20:01:21.148Z"
   },
   {
    "duration": 194,
    "start_time": "2023-10-07T20:01:47.500Z"
   },
   {
    "duration": 1220,
    "start_time": "2023-10-07T20:01:55.894Z"
   },
   {
    "duration": 77,
    "start_time": "2023-10-07T20:01:58.600Z"
   },
   {
    "duration": 4,
    "start_time": "2023-10-07T20:02:01.072Z"
   },
   {
    "duration": 14,
    "start_time": "2023-10-07T20:02:02.857Z"
   },
   {
    "duration": 210,
    "start_time": "2023-10-07T20:02:06.422Z"
   },
   {
    "duration": 11,
    "start_time": "2023-10-07T20:02:23.322Z"
   },
   {
    "duration": 7,
    "start_time": "2023-10-07T20:02:27.264Z"
   },
   {
    "duration": 24,
    "start_time": "2023-10-07T20:02:43.225Z"
   },
   {
    "duration": 1252,
    "start_time": "2023-10-07T20:03:13.064Z"
   },
   {
    "duration": 81,
    "start_time": "2023-10-07T20:03:16.503Z"
   },
   {
    "duration": 4,
    "start_time": "2023-10-07T20:03:18.809Z"
   },
   {
    "duration": 15,
    "start_time": "2023-10-07T20:03:20.683Z"
   },
   {
    "duration": 199,
    "start_time": "2023-10-07T20:03:26.155Z"
   },
   {
    "duration": 1237,
    "start_time": "2023-10-07T20:03:49.341Z"
   },
   {
    "duration": 54,
    "start_time": "2023-10-07T20:03:51.859Z"
   },
   {
    "duration": 4,
    "start_time": "2023-10-07T20:03:54.761Z"
   },
   {
    "duration": 25,
    "start_time": "2023-10-07T20:03:56.627Z"
   },
   {
    "duration": 5,
    "start_time": "2023-10-07T20:03:59.182Z"
   },
   {
    "duration": 10,
    "start_time": "2023-10-07T20:04:13.779Z"
   },
   {
    "duration": 21,
    "start_time": "2023-10-07T20:04:22.146Z"
   },
   {
    "duration": 4,
    "start_time": "2023-10-07T20:04:43.958Z"
   },
   {
    "duration": 8,
    "start_time": "2023-10-07T20:04:48.957Z"
   },
   {
    "duration": 12,
    "start_time": "2023-10-07T20:04:51.952Z"
   },
   {
    "duration": 10,
    "start_time": "2023-10-07T20:04:56.775Z"
   },
   {
    "duration": 112,
    "start_time": "2023-10-07T20:05:04.664Z"
   },
   {
    "duration": 5,
    "start_time": "2023-10-07T20:05:10.497Z"
   },
   {
    "duration": 15,
    "start_time": "2023-10-07T20:05:19.270Z"
   },
   {
    "duration": 9,
    "start_time": "2023-10-07T20:05:30.886Z"
   },
   {
    "duration": 13,
    "start_time": "2023-10-07T20:05:37.289Z"
   },
   {
    "duration": 140,
    "start_time": "2023-10-07T20:05:51.778Z"
   },
   {
    "duration": 5,
    "start_time": "2023-10-07T20:10:31.548Z"
   },
   {
    "duration": 35,
    "start_time": "2023-10-07T20:12:03.118Z"
   },
   {
    "duration": 27,
    "start_time": "2023-10-07T20:12:09.183Z"
   },
   {
    "duration": 8,
    "start_time": "2023-10-07T20:12:53.178Z"
   },
   {
    "duration": 1213,
    "start_time": "2023-10-08T08:17:14.596Z"
   },
   {
    "duration": 109,
    "start_time": "2023-10-08T08:17:17.207Z"
   },
   {
    "duration": 3,
    "start_time": "2023-10-08T08:17:19.599Z"
   },
   {
    "duration": 14,
    "start_time": "2023-10-08T08:17:21.407Z"
   },
   {
    "duration": 5,
    "start_time": "2023-10-08T08:17:24.161Z"
   },
   {
    "duration": 16,
    "start_time": "2023-10-08T08:17:26.425Z"
   },
   {
    "duration": 10,
    "start_time": "2023-10-08T08:17:28.184Z"
   },
   {
    "duration": 4,
    "start_time": "2023-10-08T08:17:31.764Z"
   },
   {
    "duration": 5,
    "start_time": "2023-10-08T08:17:33.772Z"
   },
   {
    "duration": 6,
    "start_time": "2023-10-08T08:17:35.256Z"
   },
   {
    "duration": 105,
    "start_time": "2023-10-08T08:17:38.795Z"
   },
   {
    "duration": 5,
    "start_time": "2023-10-08T08:17:40.555Z"
   },
   {
    "duration": 11,
    "start_time": "2023-10-08T08:17:42.909Z"
   },
   {
    "duration": 8,
    "start_time": "2023-10-08T08:17:46.006Z"
   },
   {
    "duration": 18,
    "start_time": "2023-10-08T08:17:48.331Z"
   },
   {
    "duration": 7,
    "start_time": "2023-10-08T08:18:54.797Z"
   },
   {
    "duration": 26,
    "start_time": "2023-10-08T08:18:59.077Z"
   },
   {
    "duration": 7,
    "start_time": "2023-10-08T08:19:02.589Z"
   },
   {
    "duration": 108,
    "start_time": "2023-10-08T08:26:36.677Z"
   },
   {
    "duration": 16,
    "start_time": "2023-10-08T08:33:51.336Z"
   },
   {
    "duration": 20,
    "start_time": "2023-10-08T08:34:12.916Z"
   },
   {
    "duration": 20,
    "start_time": "2023-10-08T08:34:28.415Z"
   },
   {
    "duration": 18,
    "start_time": "2023-10-08T08:34:36.914Z"
   },
   {
    "duration": 1129,
    "start_time": "2023-10-08T08:35:22.988Z"
   },
   {
    "duration": 49,
    "start_time": "2023-10-08T08:35:24.119Z"
   },
   {
    "duration": 3,
    "start_time": "2023-10-08T08:35:24.170Z"
   },
   {
    "duration": 15,
    "start_time": "2023-10-08T08:35:24.175Z"
   },
   {
    "duration": 4,
    "start_time": "2023-10-08T08:35:24.192Z"
   },
   {
    "duration": 18,
    "start_time": "2023-10-08T08:35:24.197Z"
   },
   {
    "duration": 9,
    "start_time": "2023-10-08T08:35:24.217Z"
   },
   {
    "duration": 5,
    "start_time": "2023-10-08T08:35:24.228Z"
   },
   {
    "duration": 15,
    "start_time": "2023-10-08T08:35:24.235Z"
   },
   {
    "duration": 5,
    "start_time": "2023-10-08T08:35:24.251Z"
   },
   {
    "duration": 107,
    "start_time": "2023-10-08T08:35:24.257Z"
   },
   {
    "duration": 3,
    "start_time": "2023-10-08T08:35:24.366Z"
   },
   {
    "duration": 12,
    "start_time": "2023-10-08T08:35:24.371Z"
   },
   {
    "duration": 12,
    "start_time": "2023-10-08T08:35:24.386Z"
   },
   {
    "duration": 27,
    "start_time": "2023-10-08T08:35:24.400Z"
   },
   {
    "duration": 24,
    "start_time": "2023-10-08T08:35:24.429Z"
   },
   {
    "duration": 7,
    "start_time": "2023-10-08T08:35:34.227Z"
   },
   {
    "duration": 108,
    "start_time": "2023-10-08T08:35:38.723Z"
   },
   {
    "duration": 4,
    "start_time": "2023-10-08T08:37:06.185Z"
   },
   {
    "duration": 4,
    "start_time": "2023-10-08T08:37:25.659Z"
   },
   {
    "duration": 3,
    "start_time": "2023-10-08T08:38:14.968Z"
   },
   {
    "duration": 6,
    "start_time": "2023-10-08T08:38:34.777Z"
   },
   {
    "duration": 5,
    "start_time": "2023-10-08T08:38:38.112Z"
   },
   {
    "duration": 5,
    "start_time": "2023-10-08T08:39:10.297Z"
   },
   {
    "duration": 4,
    "start_time": "2023-10-08T08:39:14.676Z"
   },
   {
    "duration": 100,
    "start_time": "2023-10-08T08:39:28.025Z"
   },
   {
    "duration": 5,
    "start_time": "2023-10-08T08:39:30.895Z"
   },
   {
    "duration": 10,
    "start_time": "2023-10-08T08:39:33.767Z"
   },
   {
    "duration": 15,
    "start_time": "2023-10-08T08:39:46.896Z"
   },
   {
    "duration": 13,
    "start_time": "2023-10-08T08:40:08.368Z"
   },
   {
    "duration": 16,
    "start_time": "2023-10-08T08:40:17.788Z"
   },
   {
    "duration": 38,
    "start_time": "2023-10-08T08:40:23.122Z"
   },
   {
    "duration": 1289,
    "start_time": "2023-10-08T08:41:28.147Z"
   },
   {
    "duration": 51,
    "start_time": "2023-10-08T08:41:31.167Z"
   },
   {
    "duration": 4,
    "start_time": "2023-10-08T08:41:34.389Z"
   },
   {
    "duration": 13,
    "start_time": "2023-10-08T08:41:36.506Z"
   },
   {
    "duration": 4,
    "start_time": "2023-10-08T08:41:42.473Z"
   },
   {
    "duration": 10,
    "start_time": "2023-10-08T08:41:50.188Z"
   },
   {
    "duration": 19,
    "start_time": "2023-10-08T08:41:52.926Z"
   },
   {
    "duration": 103,
    "start_time": "2023-10-08T08:41:56.657Z"
   },
   {
    "duration": 15,
    "start_time": "2023-10-08T08:42:20.627Z"
   },
   {
    "duration": 12,
    "start_time": "2023-10-08T08:42:23.909Z"
   },
   {
    "duration": 1128,
    "start_time": "2023-10-08T08:43:55.854Z"
   },
   {
    "duration": 59,
    "start_time": "2023-10-08T08:43:58.488Z"
   },
   {
    "duration": 3,
    "start_time": "2023-10-08T08:44:01.242Z"
   },
   {
    "duration": 14,
    "start_time": "2023-10-08T08:44:03.862Z"
   },
   {
    "duration": 5,
    "start_time": "2023-10-08T08:44:09.072Z"
   },
   {
    "duration": 11,
    "start_time": "2023-10-08T08:44:14.043Z"
   },
   {
    "duration": 12,
    "start_time": "2023-10-08T08:44:19.971Z"
   },
   {
    "duration": 5,
    "start_time": "2023-10-08T08:44:33.741Z"
   },
   {
    "duration": 6,
    "start_time": "2023-10-08T08:44:56.348Z"
   },
   {
    "duration": 98,
    "start_time": "2023-10-08T08:45:06.001Z"
   },
   {
    "duration": 3,
    "start_time": "2023-10-08T08:45:13.371Z"
   },
   {
    "duration": 8,
    "start_time": "2023-10-08T08:45:33.241Z"
   },
   {
    "duration": 1103,
    "start_time": "2023-10-08T08:46:41.240Z"
   },
   {
    "duration": 49,
    "start_time": "2023-10-08T08:46:44.162Z"
   },
   {
    "duration": 3,
    "start_time": "2023-10-08T08:46:57.194Z"
   },
   {
    "duration": 14,
    "start_time": "2023-10-08T08:47:00.578Z"
   },
   {
    "duration": 5,
    "start_time": "2023-10-08T08:47:09.047Z"
   },
   {
    "duration": 15,
    "start_time": "2023-10-08T08:47:14.436Z"
   },
   {
    "duration": 10,
    "start_time": "2023-10-08T08:47:17.261Z"
   },
   {
    "duration": 3,
    "start_time": "2023-10-08T08:47:25.561Z"
   },
   {
    "duration": 7,
    "start_time": "2023-10-08T08:47:51.112Z"
   },
   {
    "duration": 3,
    "start_time": "2023-10-08T08:48:04.012Z"
   },
   {
    "duration": 9,
    "start_time": "2023-10-08T08:48:15.778Z"
   },
   {
    "duration": 4,
    "start_time": "2023-10-08T08:48:17.898Z"
   },
   {
    "duration": 8,
    "start_time": "2023-10-08T08:48:26.014Z"
   },
   {
    "duration": 5,
    "start_time": "2023-10-08T08:48:29.923Z"
   },
   {
    "duration": 6,
    "start_time": "2023-10-08T08:48:38.605Z"
   },
   {
    "duration": 135,
    "start_time": "2023-10-08T08:48:55.891Z"
   },
   {
    "duration": 6,
    "start_time": "2023-10-08T08:49:01.809Z"
   },
   {
    "duration": 3,
    "start_time": "2023-10-08T08:49:04.292Z"
   },
   {
    "duration": 112,
    "start_time": "2023-10-08T08:49:36.350Z"
   },
   {
    "duration": 1231,
    "start_time": "2023-10-08T08:50:45.479Z"
   },
   {
    "duration": 51,
    "start_time": "2023-10-08T08:50:48.457Z"
   },
   {
    "duration": 3,
    "start_time": "2023-10-08T08:50:51.358Z"
   },
   {
    "duration": 13,
    "start_time": "2023-10-08T08:50:53.678Z"
   },
   {
    "duration": 6,
    "start_time": "2023-10-08T08:51:47.957Z"
   },
   {
    "duration": 21,
    "start_time": "2023-10-08T08:52:04.924Z"
   },
   {
    "duration": 107,
    "start_time": "2023-10-08T08:52:12.855Z"
   },
   {
    "duration": 3,
    "start_time": "2023-10-08T08:52:24.096Z"
   },
   {
    "duration": 4,
    "start_time": "2023-10-08T08:52:39.422Z"
   },
   {
    "duration": 5,
    "start_time": "2023-10-08T08:53:05.569Z"
   },
   {
    "duration": 4,
    "start_time": "2023-10-08T08:53:21.303Z"
   },
   {
    "duration": 5,
    "start_time": "2023-10-08T08:53:34.905Z"
   },
   {
    "duration": 10,
    "start_time": "2023-10-08T08:53:40.757Z"
   },
   {
    "duration": 4,
    "start_time": "2023-10-08T08:53:42.657Z"
   },
   {
    "duration": 9,
    "start_time": "2023-10-08T08:53:46.881Z"
   },
   {
    "duration": 4,
    "start_time": "2023-10-08T08:54:27.658Z"
   },
   {
    "duration": 7,
    "start_time": "2023-10-08T08:55:10.563Z"
   },
   {
    "duration": 19,
    "start_time": "2023-10-08T08:56:07.572Z"
   },
   {
    "duration": 3,
    "start_time": "2023-10-08T08:56:50.183Z"
   },
   {
    "duration": 25,
    "start_time": "2023-10-08T08:57:21.707Z"
   },
   {
    "duration": 93,
    "start_time": "2023-10-08T08:58:11.864Z"
   },
   {
    "duration": 189,
    "start_time": "2023-10-08T08:59:14.550Z"
   },
   {
    "duration": 3,
    "start_time": "2023-10-08T08:59:26.272Z"
   },
   {
    "duration": 11,
    "start_time": "2023-10-08T08:59:36.308Z"
   },
   {
    "duration": 5,
    "start_time": "2023-10-08T08:59:39.819Z"
   },
   {
    "duration": 6,
    "start_time": "2023-10-08T08:59:44.668Z"
   },
   {
    "duration": 1243,
    "start_time": "2023-10-08T09:00:10.026Z"
   },
   {
    "duration": 59,
    "start_time": "2023-10-08T09:00:12.841Z"
   },
   {
    "duration": 4,
    "start_time": "2023-10-08T09:00:15.088Z"
   },
   {
    "duration": 13,
    "start_time": "2023-10-08T09:00:16.793Z"
   },
   {
    "duration": 9,
    "start_time": "2023-10-08T09:00:20.134Z"
   },
   {
    "duration": 8,
    "start_time": "2023-10-08T09:00:22.062Z"
   },
   {
    "duration": 6,
    "start_time": "2023-10-08T09:00:24.381Z"
   },
   {
    "duration": 4,
    "start_time": "2023-10-08T09:00:26.024Z"
   },
   {
    "duration": 7,
    "start_time": "2023-10-08T09:00:28.112Z"
   },
   {
    "duration": 20,
    "start_time": "2023-10-08T09:00:30.799Z"
   },
   {
    "duration": 4,
    "start_time": "2023-10-08T09:00:33.038Z"
   },
   {
    "duration": 24,
    "start_time": "2023-10-08T09:00:36.990Z"
   },
   {
    "duration": 203,
    "start_time": "2023-10-08T09:00:39.368Z"
   },
   {
    "duration": 5,
    "start_time": "2023-10-08T09:00:48.856Z"
   },
   {
    "duration": 16,
    "start_time": "2023-10-08T09:01:27.460Z"
   },
   {
    "duration": 102,
    "start_time": "2023-10-08T09:02:09.156Z"
   },
   {
    "duration": 4,
    "start_time": "2023-10-08T09:02:21.238Z"
   },
   {
    "duration": 84,
    "start_time": "2023-10-08T09:02:33.180Z"
   },
   {
    "duration": 5,
    "start_time": "2023-10-08T09:02:35.156Z"
   },
   {
    "duration": 121,
    "start_time": "2023-10-08T09:03:26.118Z"
   },
   {
    "duration": 4,
    "start_time": "2023-10-08T09:03:28.576Z"
   },
   {
    "duration": 104,
    "start_time": "2023-10-08T09:03:56.756Z"
   },
   {
    "duration": 113,
    "start_time": "2023-10-08T09:05:09.756Z"
   },
   {
    "duration": 5,
    "start_time": "2023-10-08T09:05:12.741Z"
   },
   {
    "duration": 1228,
    "start_time": "2023-10-08T09:05:51.057Z"
   },
   {
    "duration": 58,
    "start_time": "2023-10-08T09:05:54.179Z"
   },
   {
    "duration": 4,
    "start_time": "2023-10-08T09:05:57.455Z"
   },
   {
    "duration": 13,
    "start_time": "2023-10-08T09:06:00.610Z"
   },
   {
    "duration": 7,
    "start_time": "2023-10-08T09:06:08.092Z"
   },
   {
    "duration": 3,
    "start_time": "2023-10-08T09:06:13.521Z"
   },
   {
    "duration": 6,
    "start_time": "2023-10-08T09:06:15.488Z"
   },
   {
    "duration": 5,
    "start_time": "2023-10-08T09:06:17.041Z"
   },
   {
    "duration": 258,
    "start_time": "2023-10-08T09:07:45.222Z"
   },
   {
    "duration": 12,
    "start_time": "2023-10-08T09:08:06.602Z"
   },
   {
    "duration": 157,
    "start_time": "2023-10-08T09:08:27.556Z"
   },
   {
    "duration": 13,
    "start_time": "2023-10-08T09:08:32.467Z"
   },
   {
    "duration": 12,
    "start_time": "2023-10-08T09:08:55.195Z"
   },
   {
    "duration": 1701,
    "start_time": "2023-10-08T09:09:04.524Z"
   },
   {
    "duration": 62,
    "start_time": "2023-10-08T09:09:08.600Z"
   },
   {
    "duration": 3,
    "start_time": "2023-10-08T09:09:11.660Z"
   },
   {
    "duration": 19,
    "start_time": "2023-10-08T09:09:13.828Z"
   },
   {
    "duration": 7,
    "start_time": "2023-10-08T09:09:23.365Z"
   },
   {
    "duration": 174,
    "start_time": "2023-10-08T09:09:45.880Z"
   },
   {
    "duration": 1204,
    "start_time": "2023-10-08T09:10:52.420Z"
   },
   {
    "duration": 51,
    "start_time": "2023-10-08T09:10:54.906Z"
   },
   {
    "duration": 3,
    "start_time": "2023-10-08T09:10:57.193Z"
   },
   {
    "duration": 106,
    "start_time": "2023-10-08T09:11:19.664Z"
   },
   {
    "duration": 14,
    "start_time": "2023-10-08T09:11:23.953Z"
   },
   {
    "duration": 7,
    "start_time": "2023-10-08T09:11:32.794Z"
   },
   {
    "duration": 4,
    "start_time": "2023-10-08T09:11:35.553Z"
   },
   {
    "duration": 7,
    "start_time": "2023-10-08T09:11:37.620Z"
   },
   {
    "duration": 3,
    "start_time": "2023-10-08T09:11:39.418Z"
   },
   {
    "duration": 11,
    "start_time": "2023-10-08T09:11:42.456Z"
   },
   {
    "duration": 8,
    "start_time": "2023-10-08T09:11:46.191Z"
   },
   {
    "duration": 28,
    "start_time": "2023-10-08T09:11:48.637Z"
   },
   {
    "duration": 4,
    "start_time": "2023-10-08T09:11:51.090Z"
   },
   {
    "duration": 21,
    "start_time": "2023-10-08T09:11:57.993Z"
   },
   {
    "duration": 6,
    "start_time": "2023-10-08T09:12:01.298Z"
   },
   {
    "duration": 15,
    "start_time": "2023-10-08T09:12:10.642Z"
   },
   {
    "duration": 7,
    "start_time": "2023-10-08T09:12:34.155Z"
   },
   {
    "duration": 39,
    "start_time": "2023-10-08T09:12:40.595Z"
   },
   {
    "duration": 43,
    "start_time": "2023-10-08T09:15:10.927Z"
   },
   {
    "duration": 7,
    "start_time": "2023-10-08T09:15:37.356Z"
   },
   {
    "duration": 99,
    "start_time": "2023-10-08T09:15:48.953Z"
   },
   {
    "duration": 4,
    "start_time": "2023-10-08T09:16:02.998Z"
   },
   {
    "duration": 7,
    "start_time": "2023-10-08T09:16:08.960Z"
   },
   {
    "duration": 7,
    "start_time": "2023-10-08T09:16:20.764Z"
   },
   {
    "duration": 34,
    "start_time": "2023-10-08T09:16:53.199Z"
   },
   {
    "duration": 14,
    "start_time": "2023-10-08T09:17:35.937Z"
   },
   {
    "duration": 5,
    "start_time": "2023-10-08T09:18:13.760Z"
   },
   {
    "duration": 3,
    "start_time": "2023-10-08T09:19:59.370Z"
   },
   {
    "duration": 5,
    "start_time": "2023-10-08T09:20:15.574Z"
   },
   {
    "duration": 4,
    "start_time": "2023-10-08T09:22:38.502Z"
   },
   {
    "duration": 5,
    "start_time": "2023-10-08T09:22:49.310Z"
   },
   {
    "duration": 6,
    "start_time": "2023-10-08T09:23:59.736Z"
   },
   {
    "duration": 5,
    "start_time": "2023-10-08T09:24:58.273Z"
   },
   {
    "duration": 3,
    "start_time": "2023-10-08T09:25:22.708Z"
   },
   {
    "duration": 6,
    "start_time": "2023-10-08T09:25:40.468Z"
   },
   {
    "duration": 4,
    "start_time": "2023-10-08T09:28:15.661Z"
   },
   {
    "duration": 7,
    "start_time": "2023-10-08T09:28:26.781Z"
   },
   {
    "duration": 17,
    "start_time": "2023-10-08T09:31:08.491Z"
   },
   {
    "duration": 10,
    "start_time": "2023-10-08T09:31:20.252Z"
   },
   {
    "duration": 45,
    "start_time": "2023-10-08T09:32:05.913Z"
   },
   {
    "duration": 46,
    "start_time": "2023-10-08T09:32:24.724Z"
   },
   {
    "duration": 37,
    "start_time": "2023-10-08T09:32:32.567Z"
   },
   {
    "duration": 20,
    "start_time": "2023-10-08T09:48:13.374Z"
   },
   {
    "duration": 4,
    "start_time": "2023-10-08T09:48:36.084Z"
   },
   {
    "duration": 143,
    "start_time": "2023-10-08T09:48:45.882Z"
   },
   {
    "duration": 67,
    "start_time": "2023-10-08T09:56:06.190Z"
   },
   {
    "duration": 34,
    "start_time": "2023-10-08T09:57:31.618Z"
   },
   {
    "duration": 19,
    "start_time": "2023-10-08T09:57:58.010Z"
   },
   {
    "duration": 12,
    "start_time": "2023-10-08T10:06:07.207Z"
   },
   {
    "duration": 10,
    "start_time": "2023-10-08T10:06:55.558Z"
   },
   {
    "duration": 725,
    "start_time": "2023-10-08T10:07:17.857Z"
   },
   {
    "duration": 770,
    "start_time": "2023-10-08T10:07:35.503Z"
   },
   {
    "duration": 1373,
    "start_time": "2023-10-08T10:08:33.692Z"
   },
   {
    "duration": 316,
    "start_time": "2023-10-08T10:09:44.840Z"
   },
   {
    "duration": 1318,
    "start_time": "2023-10-08T10:11:44.424Z"
   },
   {
    "duration": 4,
    "start_time": "2023-10-08T10:12:03.429Z"
   },
   {
    "duration": 1382,
    "start_time": "2023-10-08T10:12:12.711Z"
   },
   {
    "duration": 4,
    "start_time": "2023-10-08T10:13:45.200Z"
   },
   {
    "duration": 10,
    "start_time": "2023-10-08T10:14:10.999Z"
   },
   {
    "duration": 5,
    "start_time": "2023-10-08T10:14:27.997Z"
   },
   {
    "duration": 6,
    "start_time": "2023-10-08T10:14:31.305Z"
   },
   {
    "duration": 13,
    "start_time": "2023-10-08T10:17:15.920Z"
   },
   {
    "duration": 10,
    "start_time": "2023-10-08T10:17:38.653Z"
   },
   {
    "duration": 14,
    "start_time": "2023-10-08T10:30:11.419Z"
   },
   {
    "duration": 40234,
    "start_time": "2023-10-08T10:33:10.321Z"
   },
   {
    "duration": 1349,
    "start_time": "2023-10-08T10:35:58.020Z"
   },
   {
    "duration": 63,
    "start_time": "2023-10-08T10:36:01.204Z"
   },
   {
    "duration": 4,
    "start_time": "2023-10-08T10:36:03.704Z"
   },
   {
    "duration": 111,
    "start_time": "2023-10-08T10:36:05.123Z"
   },
   {
    "duration": 18,
    "start_time": "2023-10-08T10:36:06.989Z"
   },
   {
    "duration": 9,
    "start_time": "2023-10-08T10:36:09.733Z"
   },
   {
    "duration": 4,
    "start_time": "2023-10-08T10:36:11.290Z"
   },
   {
    "duration": 5,
    "start_time": "2023-10-08T10:36:12.982Z"
   },
   {
    "duration": 5,
    "start_time": "2023-10-08T10:36:14.574Z"
   },
   {
    "duration": 21,
    "start_time": "2023-10-08T10:36:16.518Z"
   },
   {
    "duration": 9,
    "start_time": "2023-10-08T10:36:18.738Z"
   },
   {
    "duration": 30,
    "start_time": "2023-10-08T10:36:20.244Z"
   },
   {
    "duration": 4,
    "start_time": "2023-10-08T10:36:21.605Z"
   },
   {
    "duration": 21,
    "start_time": "2023-10-08T10:36:24.285Z"
   },
   {
    "duration": 7,
    "start_time": "2023-10-08T10:36:25.977Z"
   },
   {
    "duration": 37870,
    "start_time": "2023-10-08T10:37:08.422Z"
   },
   {
    "duration": 387,
    "start_time": "2023-10-08T10:40:52.701Z"
   },
   {
    "duration": 238,
    "start_time": "2023-10-08T10:42:05.325Z"
   },
   {
    "duration": 1256,
    "start_time": "2023-10-08T10:42:41.268Z"
   },
   {
    "duration": 56,
    "start_time": "2023-10-08T10:42:43.844Z"
   },
   {
    "duration": 5,
    "start_time": "2023-10-08T10:42:45.988Z"
   },
   {
    "duration": 107,
    "start_time": "2023-10-08T10:42:47.786Z"
   },
   {
    "duration": 15,
    "start_time": "2023-10-08T10:42:49.848Z"
   },
   {
    "duration": 8,
    "start_time": "2023-10-08T10:42:53.352Z"
   },
   {
    "duration": 4,
    "start_time": "2023-10-08T10:42:55.174Z"
   },
   {
    "duration": 6,
    "start_time": "2023-10-08T10:42:58.372Z"
   },
   {
    "duration": 3,
    "start_time": "2023-10-08T10:42:59.986Z"
   },
   {
    "duration": 21,
    "start_time": "2023-10-08T10:43:01.409Z"
   },
   {
    "duration": 8,
    "start_time": "2023-10-08T10:43:03.601Z"
   },
   {
    "duration": 18,
    "start_time": "2023-10-08T10:43:05.495Z"
   },
   {
    "duration": 4,
    "start_time": "2023-10-08T10:43:07.175Z"
   },
   {
    "duration": 37,
    "start_time": "2023-10-08T10:43:09.121Z"
   },
   {
    "duration": 7,
    "start_time": "2023-10-08T10:43:10.949Z"
   },
   {
    "duration": 39799,
    "start_time": "2023-10-08T10:43:16.773Z"
   },
   {
    "duration": 390,
    "start_time": "2023-10-08T10:44:27.962Z"
   },
   {
    "duration": 389,
    "start_time": "2023-10-08T10:44:37.565Z"
   },
   {
    "duration": 835,
    "start_time": "2023-10-08T10:45:25.827Z"
   },
   {
    "duration": 26,
    "start_time": "2023-10-08T10:48:06.145Z"
   },
   {
    "duration": 612,
    "start_time": "2023-10-08T11:08:06.175Z"
   },
   {
    "duration": 96,
    "start_time": "2023-10-08T11:32:18.583Z"
   },
   {
    "duration": 92,
    "start_time": "2023-10-08T11:32:44.924Z"
   },
   {
    "duration": 109,
    "start_time": "2023-10-08T11:33:05.518Z"
   },
   {
    "duration": 139,
    "start_time": "2023-10-08T11:34:21.024Z"
   },
   {
    "duration": 181,
    "start_time": "2023-10-08T11:34:29.592Z"
   },
   {
    "duration": 6,
    "start_time": "2023-10-08T11:37:37.469Z"
   },
   {
    "duration": 134,
    "start_time": "2023-10-08T16:38:06.998Z"
   },
   {
    "duration": 45,
    "start_time": "2023-10-08T16:47:26.720Z"
   },
   {
    "duration": 1168,
    "start_time": "2023-10-08T16:47:31.011Z"
   },
   {
    "duration": 100,
    "start_time": "2023-10-08T16:47:35.745Z"
   },
   {
    "duration": 1268,
    "start_time": "2023-10-17T18:10:14.297Z"
   },
   {
    "duration": 100,
    "start_time": "2023-10-17T18:10:25.505Z"
   },
   {
    "duration": 16,
    "start_time": "2023-10-17T18:17:42.990Z"
   },
   {
    "duration": 1508,
    "start_time": "2023-10-17T18:20:03.989Z"
   },
   {
    "duration": 1606,
    "start_time": "2023-10-17T18:20:23.647Z"
   },
   {
    "duration": 6,
    "start_time": "2023-10-17T18:24:43.586Z"
   },
   {
    "duration": 13,
    "start_time": "2023-10-17T18:24:58.445Z"
   },
   {
    "duration": 7,
    "start_time": "2023-10-17T18:25:46.790Z"
   },
   {
    "duration": 3,
    "start_time": "2023-10-17T18:25:48.998Z"
   },
   {
    "duration": 6,
    "start_time": "2023-10-17T18:25:50.944Z"
   },
   {
    "duration": 3,
    "start_time": "2023-10-17T18:25:52.276Z"
   },
   {
    "duration": 6,
    "start_time": "2023-10-17T18:26:46.797Z"
   },
   {
    "duration": 6,
    "start_time": "2023-10-17T18:26:52.589Z"
   },
   {
    "duration": 131,
    "start_time": "2023-10-17T18:29:46.008Z"
   },
   {
    "duration": 6,
    "start_time": "2023-10-17T18:33:42.630Z"
   },
   {
    "duration": 13,
    "start_time": "2023-10-17T18:33:52.194Z"
   },
   {
    "duration": 8,
    "start_time": "2023-10-17T18:33:54.875Z"
   },
   {
    "duration": 20,
    "start_time": "2023-10-17T18:34:02.223Z"
   },
   {
    "duration": 3,
    "start_time": "2023-10-17T18:38:45.085Z"
   },
   {
    "duration": 1120,
    "start_time": "2023-10-17T18:40:13.604Z"
   },
   {
    "duration": 64,
    "start_time": "2023-10-17T18:40:17.759Z"
   },
   {
    "duration": 4,
    "start_time": "2023-10-17T18:40:22.455Z"
   },
   {
    "duration": 13,
    "start_time": "2023-10-17T18:40:24.439Z"
   },
   {
    "duration": 1899,
    "start_time": "2023-10-17T18:40:28.624Z"
   },
   {
    "duration": 5,
    "start_time": "2023-10-17T18:40:32.872Z"
   },
   {
    "duration": 13,
    "start_time": "2023-10-17T18:40:34.788Z"
   },
   {
    "duration": 7,
    "start_time": "2023-10-17T18:40:40.636Z"
   },
   {
    "duration": 5,
    "start_time": "2023-10-17T18:40:56.754Z"
   },
   {
    "duration": 3,
    "start_time": "2023-10-17T18:41:03.404Z"
   },
   {
    "duration": 4,
    "start_time": "2023-10-17T18:41:07.442Z"
   },
   {
    "duration": 12,
    "start_time": "2023-10-17T18:41:21.417Z"
   },
   {
    "duration": 8,
    "start_time": "2023-10-17T18:41:27.047Z"
   },
   {
    "duration": 20,
    "start_time": "2023-10-17T18:41:30.473Z"
   },
   {
    "duration": 4,
    "start_time": "2023-10-17T18:41:35.925Z"
   },
   {
    "duration": 123,
    "start_time": "2023-10-17T18:42:49.845Z"
   },
   {
    "duration": 7,
    "start_time": "2023-10-17T18:43:06.717Z"
   },
   {
    "duration": 7,
    "start_time": "2023-10-17T18:48:08.133Z"
   },
   {
    "duration": 9,
    "start_time": "2023-10-17T18:49:46.436Z"
   },
   {
    "duration": 4,
    "start_time": "2023-10-17T18:50:34.545Z"
   },
   {
    "duration": 14,
    "start_time": "2023-10-17T18:51:28.729Z"
   },
   {
    "duration": 1134,
    "start_time": "2023-10-17T18:52:06.575Z"
   },
   {
    "duration": 62,
    "start_time": "2023-10-17T18:52:10.584Z"
   },
   {
    "duration": 4,
    "start_time": "2023-10-17T18:53:30.634Z"
   },
   {
    "duration": 55,
    "start_time": "2023-10-17T18:53:33.990Z"
   },
   {
    "duration": 4,
    "start_time": "2023-10-17T18:53:36.430Z"
   },
   {
    "duration": 13,
    "start_time": "2023-10-17T18:53:38.036Z"
   },
   {
    "duration": 1828,
    "start_time": "2023-10-17T18:53:40.596Z"
   },
   {
    "duration": 5,
    "start_time": "2023-10-17T18:53:45.034Z"
   },
   {
    "duration": 13,
    "start_time": "2023-10-17T18:53:46.824Z"
   },
   {
    "duration": 7,
    "start_time": "2023-10-17T18:53:51.633Z"
   },
   {
    "duration": 10,
    "start_time": "2023-10-17T18:54:10.354Z"
   },
   {
    "duration": 117,
    "start_time": "2023-10-17T18:54:12.568Z"
   },
   {
    "duration": 4,
    "start_time": "2023-10-17T18:54:20.147Z"
   },
   {
    "duration": 15,
    "start_time": "2023-10-17T18:54:29.997Z"
   },
   {
    "duration": 10,
    "start_time": "2023-10-17T18:56:21.740Z"
   },
   {
    "duration": 4,
    "start_time": "2023-10-17T18:56:23.824Z"
   },
   {
    "duration": 6,
    "start_time": "2023-10-17T18:56:36.791Z"
   },
   {
    "duration": 11,
    "start_time": "2023-10-17T18:56:39.360Z"
   },
   {
    "duration": 4,
    "start_time": "2023-10-17T18:56:53.761Z"
   },
   {
    "duration": 6,
    "start_time": "2023-10-17T18:57:12.158Z"
   },
   {
    "duration": 16,
    "start_time": "2023-10-17T18:57:31.654Z"
   },
   {
    "duration": 14,
    "start_time": "2023-10-17T18:58:39.478Z"
   },
   {
    "duration": 8,
    "start_time": "2023-10-17T18:58:50.591Z"
   },
   {
    "duration": 14,
    "start_time": "2023-10-17T18:59:09.778Z"
   },
   {
    "duration": 6,
    "start_time": "2023-10-17T18:59:20.592Z"
   },
   {
    "duration": 13,
    "start_time": "2023-10-17T18:59:38.687Z"
   },
   {
    "duration": 5,
    "start_time": "2023-10-17T18:59:46.667Z"
   },
   {
    "duration": 1214,
    "start_time": "2023-10-17T18:59:55.307Z"
   },
   {
    "duration": 62,
    "start_time": "2023-10-17T18:59:59.519Z"
   },
   {
    "duration": 4,
    "start_time": "2023-10-17T19:00:02.102Z"
   },
   {
    "duration": 19,
    "start_time": "2023-10-17T19:00:03.954Z"
   },
   {
    "duration": 2043,
    "start_time": "2023-10-17T19:00:06.854Z"
   },
   {
    "duration": 6,
    "start_time": "2023-10-17T19:00:11.567Z"
   },
   {
    "duration": 14,
    "start_time": "2023-10-17T19:00:13.334Z"
   },
   {
    "duration": 6,
    "start_time": "2023-10-17T19:00:17.454Z"
   },
   {
    "duration": 12,
    "start_time": "2023-10-17T19:00:19.651Z"
   },
   {
    "duration": 4,
    "start_time": "2023-10-17T19:00:22.112Z"
   },
   {
    "duration": 7,
    "start_time": "2023-10-17T19:00:24.549Z"
   },
   {
    "duration": 4,
    "start_time": "2023-10-17T19:00:26.749Z"
   },
   {
    "duration": 14,
    "start_time": "2023-10-17T19:00:32.211Z"
   },
   {
    "duration": 134,
    "start_time": "2023-10-17T19:00:36.160Z"
   },
   {
    "duration": 21,
    "start_time": "2023-10-17T19:01:00.228Z"
   },
   {
    "duration": 4,
    "start_time": "2023-10-17T19:01:06.419Z"
   },
   {
    "duration": 4,
    "start_time": "2023-10-17T19:02:20.212Z"
   },
   {
    "duration": 20,
    "start_time": "2023-10-17T19:02:23.182Z"
   },
   {
    "duration": 23,
    "start_time": "2023-10-17T19:03:04.628Z"
   },
   {
    "duration": 6,
    "start_time": "2023-10-17T19:03:38.002Z"
   },
   {
    "duration": 11,
    "start_time": "2023-10-17T19:04:14.332Z"
   },
   {
    "duration": 6,
    "start_time": "2023-10-17T19:04:39.224Z"
   },
   {
    "duration": 139,
    "start_time": "2023-10-17T19:09:07.632Z"
   },
   {
    "duration": 83,
    "start_time": "2023-10-17T19:09:15.561Z"
   },
   {
    "duration": 80,
    "start_time": "2023-10-17T19:09:18.560Z"
   },
   {
    "duration": 93,
    "start_time": "2023-10-17T19:09:25.408Z"
   },
   {
    "duration": 6,
    "start_time": "2023-10-17T19:09:33.653Z"
   },
   {
    "duration": 6,
    "start_time": "2023-10-17T19:09:42.436Z"
   },
   {
    "duration": 18,
    "start_time": "2023-10-17T19:10:57.498Z"
   },
   {
    "duration": 17,
    "start_time": "2023-10-17T19:11:07.583Z"
   },
   {
    "duration": 7,
    "start_time": "2023-10-17T19:11:24.194Z"
   },
   {
    "duration": 35003,
    "start_time": "2023-10-17T19:12:50.884Z"
   },
   {
    "duration": 13,
    "start_time": "2023-10-17T19:17:06.375Z"
   },
   {
    "duration": 8,
    "start_time": "2023-10-17T19:17:54.167Z"
   },
   {
    "duration": 60667,
    "start_time": "2023-10-17T19:18:00.041Z"
   },
   {
    "duration": 61063,
    "start_time": "2023-10-17T19:19:22.042Z"
   },
   {
    "duration": 248,
    "start_time": "2023-10-17T19:23:14.599Z"
   },
   {
    "duration": 150,
    "start_time": "2023-10-17T19:23:47.202Z"
   },
   {
    "duration": 596,
    "start_time": "2023-10-17T19:25:18.183Z"
   },
   {
    "duration": 678,
    "start_time": "2023-10-17T19:26:25.441Z"
   },
   {
    "duration": 1355,
    "start_time": "2023-10-18T16:38:13.754Z"
   },
   {
    "duration": 5,
    "start_time": "2023-10-18T16:38:19.187Z"
   },
   {
    "duration": 104,
    "start_time": "2023-10-18T16:38:22.315Z"
   },
   {
    "duration": 3,
    "start_time": "2023-10-18T16:38:24.914Z"
   },
   {
    "duration": 12,
    "start_time": "2023-10-18T16:38:26.698Z"
   },
   {
    "duration": 2134,
    "start_time": "2023-10-18T16:38:29.261Z"
   },
   {
    "duration": 6,
    "start_time": "2023-10-18T16:38:35.667Z"
   },
   {
    "duration": 15,
    "start_time": "2023-10-18T16:38:38.181Z"
   },
   {
    "duration": 8,
    "start_time": "2023-10-18T16:38:41.002Z"
   },
   {
    "duration": 13,
    "start_time": "2023-10-18T16:38:43.355Z"
   },
   {
    "duration": 5,
    "start_time": "2023-10-18T16:38:45.170Z"
   },
   {
    "duration": 7,
    "start_time": "2023-10-18T16:38:48.522Z"
   },
   {
    "duration": 7,
    "start_time": "2023-10-18T16:38:50.355Z"
   },
   {
    "duration": 13,
    "start_time": "2023-10-18T16:38:53.322Z"
   },
   {
    "duration": 20,
    "start_time": "2023-10-18T16:38:55.634Z"
   },
   {
    "duration": 4,
    "start_time": "2023-10-18T16:38:58.122Z"
   },
   {
    "duration": 26,
    "start_time": "2023-10-18T16:39:00.063Z"
   },
   {
    "duration": 5,
    "start_time": "2023-10-18T16:39:12.324Z"
   },
   {
    "duration": 9,
    "start_time": "2023-10-18T16:39:15.659Z"
   },
   {
    "duration": 121,
    "start_time": "2023-10-18T16:43:55.203Z"
   },
   {
    "duration": 4,
    "start_time": "2023-10-18T16:44:08.780Z"
   },
   {
    "duration": 82,
    "start_time": "2023-10-18T16:44:15.260Z"
   },
   {
    "duration": 79,
    "start_time": "2023-10-18T16:45:11.598Z"
   },
   {
    "duration": 6,
    "start_time": "2023-10-18T16:45:17.500Z"
   },
   {
    "duration": 83,
    "start_time": "2023-10-18T16:45:20.492Z"
   },
   {
    "duration": 32761,
    "start_time": "2023-10-18T16:45:40.830Z"
   },
   {
    "duration": 60782,
    "start_time": "2023-10-18T16:48:19.004Z"
   },
   {
    "duration": 960,
    "start_time": "2023-10-18T16:49:19.788Z"
   },
   {
    "duration": 497,
    "start_time": "2023-10-18T16:49:42.265Z"
   },
   {
    "duration": 507,
    "start_time": "2023-10-18T16:49:59.781Z"
   },
   {
    "duration": 639,
    "start_time": "2023-10-18T16:52:15.001Z"
   },
   {
    "duration": 4,
    "start_time": "2023-10-18T16:52:24.233Z"
   },
   {
    "duration": 13,
    "start_time": "2023-10-18T16:53:16.184Z"
   },
   {
    "duration": 97,
    "start_time": "2023-10-18T16:53:37.523Z"
   },
   {
    "duration": 12,
    "start_time": "2023-10-18T16:53:43.497Z"
   },
   {
    "duration": 138,
    "start_time": "2023-10-18T16:54:29.692Z"
   },
   {
    "duration": 140,
    "start_time": "2023-10-18T16:54:42.032Z"
   },
   {
    "duration": 9,
    "start_time": "2023-10-18T17:02:10.475Z"
   },
   {
    "duration": 10,
    "start_time": "2023-10-18T17:02:13.923Z"
   },
   {
    "duration": 13,
    "start_time": "2023-10-18T17:02:20.291Z"
   },
   {
    "duration": 14,
    "start_time": "2023-10-18T17:03:03.076Z"
   },
   {
    "duration": 10,
    "start_time": "2023-10-18T17:03:05.971Z"
   },
   {
    "duration": 16,
    "start_time": "2023-10-18T17:03:16.064Z"
   },
   {
    "duration": 18,
    "start_time": "2023-10-18T17:04:27.253Z"
   },
   {
    "duration": 14,
    "start_time": "2023-10-18T17:04:31.454Z"
   },
   {
    "duration": 11,
    "start_time": "2023-10-18T17:06:28.134Z"
   },
   {
    "duration": 13,
    "start_time": "2023-10-18T17:06:44.695Z"
   },
   {
    "duration": 435,
    "start_time": "2023-10-18T17:11:16.682Z"
   },
   {
    "duration": 183,
    "start_time": "2023-10-18T17:12:20.962Z"
   },
   {
    "duration": 526,
    "start_time": "2023-10-18T17:14:00.291Z"
   },
   {
    "duration": 226,
    "start_time": "2023-10-18T17:14:18.371Z"
   },
   {
    "duration": 5,
    "start_time": "2023-10-18T18:48:09.830Z"
   },
   {
    "duration": 5,
    "start_time": "2023-10-18T18:48:11.828Z"
   },
   {
    "duration": 119,
    "start_time": "2023-10-18T18:50:37.851Z"
   },
   {
    "duration": 88,
    "start_time": "2023-10-18T18:52:13.641Z"
   },
   {
    "duration": 88,
    "start_time": "2023-10-18T18:52:36.464Z"
   },
   {
    "duration": 1849,
    "start_time": "2023-10-18T18:52:44.486Z"
   },
   {
    "duration": 1808,
    "start_time": "2023-10-18T18:53:10.173Z"
   },
   {
    "duration": 28,
    "start_time": "2023-10-18T18:54:27.138Z"
   },
   {
    "duration": 15,
    "start_time": "2023-10-18T18:55:01.852Z"
   },
   {
    "duration": 57,
    "start_time": "2023-10-18T18:58:36.792Z"
   },
   {
    "duration": 480,
    "start_time": "2023-10-18T18:58:38.972Z"
   },
   {
    "duration": 84,
    "start_time": "2023-10-18T18:59:11.223Z"
   },
   {
    "duration": 213,
    "start_time": "2023-10-18T19:01:10.654Z"
   },
   {
    "duration": 528,
    "start_time": "2023-10-18T19:03:12.859Z"
   },
   {
    "duration": 113,
    "start_time": "2023-10-18T19:04:14.109Z"
   },
   {
    "duration": 197,
    "start_time": "2023-10-18T19:09:03.196Z"
   },
   {
    "duration": 6,
    "start_time": "2023-10-18T19:09:09.002Z"
   },
   {
    "duration": 118,
    "start_time": "2023-10-18T19:09:29.639Z"
   },
   {
    "duration": 128,
    "start_time": "2023-10-19T08:07:08.607Z"
   },
   {
    "duration": 4,
    "start_time": "2023-10-19T08:08:49.014Z"
   },
   {
    "duration": 12,
    "start_time": "2023-10-19T08:09:12.676Z"
   },
   {
    "duration": 12,
    "start_time": "2023-10-19T08:09:16.268Z"
   },
   {
    "duration": 9,
    "start_time": "2023-10-19T08:09:22.580Z"
   },
   {
    "duration": 1724,
    "start_time": "2023-10-19T08:09:33.710Z"
   },
   {
    "duration": 62,
    "start_time": "2023-10-19T08:09:36.749Z"
   },
   {
    "duration": 4,
    "start_time": "2023-10-19T08:09:39.636Z"
   },
   {
    "duration": 19,
    "start_time": "2023-10-19T08:09:41.860Z"
   },
   {
    "duration": 1709,
    "start_time": "2023-10-19T08:09:44.357Z"
   },
   {
    "duration": 1428,
    "start_time": "2023-10-19T08:09:49.317Z"
   },
   {
    "duration": 5,
    "start_time": "2023-10-19T08:10:37.925Z"
   },
   {
    "duration": 13,
    "start_time": "2023-10-19T08:10:39.949Z"
   },
   {
    "duration": 1505,
    "start_time": "2023-10-19T10:05:10.985Z"
   },
   {
    "duration": 87,
    "start_time": "2023-10-19T10:09:09.900Z"
   },
   {
    "duration": 1484,
    "start_time": "2023-10-19T10:11:19.082Z"
   },
   {
    "duration": 65,
    "start_time": "2023-10-19T10:11:23.682Z"
   },
   {
    "duration": 3,
    "start_time": "2023-10-19T10:11:27.402Z"
   },
   {
    "duration": 13,
    "start_time": "2023-10-19T10:11:29.625Z"
   },
   {
    "duration": 1561,
    "start_time": "2023-10-19T10:11:32.426Z"
   },
   {
    "duration": 1477,
    "start_time": "2023-10-19T10:11:36.626Z"
   },
   {
    "duration": 6,
    "start_time": "2023-10-19T10:11:41.898Z"
   },
   {
    "duration": 12,
    "start_time": "2023-10-19T10:11:44.018Z"
   },
   {
    "duration": 6,
    "start_time": "2023-10-19T10:11:47.919Z"
   },
   {
    "duration": 9,
    "start_time": "2023-10-19T10:11:49.930Z"
   },
   {
    "duration": 4,
    "start_time": "2023-10-19T10:11:51.715Z"
   },
   {
    "duration": 6,
    "start_time": "2023-10-19T10:11:53.737Z"
   },
   {
    "duration": 5,
    "start_time": "2023-10-19T10:11:55.426Z"
   },
   {
    "duration": 123,
    "start_time": "2023-10-19T10:12:26.942Z"
   },
   {
    "duration": 7,
    "start_time": "2023-10-19T10:13:03.267Z"
   },
   {
    "duration": 12,
    "start_time": "2023-10-19T10:13:43.588Z"
   },
   {
    "duration": 19,
    "start_time": "2023-10-19T10:13:47.427Z"
   },
   {
    "duration": 113,
    "start_time": "2023-10-19T10:28:47.529Z"
   },
   {
    "duration": 4,
    "start_time": "2023-10-19T10:29:01.032Z"
   },
   {
    "duration": 42,
    "start_time": "2023-10-19T10:29:04.942Z"
   },
   {
    "duration": 7,
    "start_time": "2023-10-19T10:29:50.642Z"
   },
   {
    "duration": 13,
    "start_time": "2023-10-19T10:29:53.536Z"
   },
   {
    "duration": 87,
    "start_time": "2023-10-19T10:29:55.377Z"
   },
   {
    "duration": 1948,
    "start_time": "2023-10-19T10:30:08.759Z"
   },
   {
    "duration": 6,
    "start_time": "2023-10-19T10:33:10.863Z"
   },
   {
    "duration": 7,
    "start_time": "2023-10-19T10:33:15.698Z"
   },
   {
    "duration": 7,
    "start_time": "2023-10-19T10:33:26.396Z"
   },
   {
    "duration": 6,
    "start_time": "2023-10-19T10:33:33.596Z"
   },
   {
    "duration": 6,
    "start_time": "2023-10-19T10:33:57.794Z"
   },
   {
    "duration": 5,
    "start_time": "2023-10-19T10:40:52.669Z"
   },
   {
    "duration": 1534,
    "start_time": "2023-10-19T10:42:31.703Z"
   },
   {
    "duration": 57,
    "start_time": "2023-10-19T10:42:36.190Z"
   },
   {
    "duration": 3,
    "start_time": "2023-10-19T10:42:38.960Z"
   },
   {
    "duration": 14,
    "start_time": "2023-10-19T10:42:40.805Z"
   },
   {
    "duration": 1670,
    "start_time": "2023-10-19T10:42:43.008Z"
   },
   {
    "duration": 1502,
    "start_time": "2023-10-19T10:42:48.486Z"
   },
   {
    "duration": 4,
    "start_time": "2023-10-19T10:42:52.887Z"
   },
   {
    "duration": 13,
    "start_time": "2023-10-19T10:42:54.798Z"
   },
   {
    "duration": 6,
    "start_time": "2023-10-19T10:42:57.928Z"
   },
   {
    "duration": 9,
    "start_time": "2023-10-19T10:43:00.217Z"
   },
   {
    "duration": 4,
    "start_time": "2023-10-19T10:43:02.031Z"
   },
   {
    "duration": 8,
    "start_time": "2023-10-19T10:43:04.330Z"
   },
   {
    "duration": 7,
    "start_time": "2023-10-19T10:43:06.360Z"
   },
   {
    "duration": 23,
    "start_time": "2023-10-19T10:43:09.639Z"
   },
   {
    "duration": 28,
    "start_time": "2023-10-19T10:43:12.241Z"
   },
   {
    "duration": 5,
    "start_time": "2023-10-19T10:43:17.326Z"
   },
   {
    "duration": 31,
    "start_time": "2023-10-19T10:43:19.240Z"
   },
   {
    "duration": 6,
    "start_time": "2023-10-19T10:43:22.197Z"
   },
   {
    "duration": 8,
    "start_time": "2023-10-19T10:43:24.086Z"
   },
   {
    "duration": 100,
    "start_time": "2023-10-19T10:43:27.326Z"
   },
   {
    "duration": 9,
    "start_time": "2023-10-19T10:43:34.432Z"
   },
   {
    "duration": 1933,
    "start_time": "2023-10-19T10:43:44.768Z"
   },
   {
    "duration": 1994,
    "start_time": "2023-10-19T10:44:33.287Z"
   },
   {
    "duration": 58264,
    "start_time": "2023-10-19T10:45:26.759Z"
   },
   {
    "duration": 1589,
    "start_time": "2023-10-22T18:03:09.955Z"
   },
   {
    "duration": 92,
    "start_time": "2023-10-22T18:03:15.495Z"
   },
   {
    "duration": 3,
    "start_time": "2023-10-22T18:03:18.531Z"
   },
   {
    "duration": 11,
    "start_time": "2023-10-22T18:03:20.932Z"
   },
   {
    "duration": 1231,
    "start_time": "2023-10-22T18:03:23.845Z"
   },
   {
    "duration": 1155,
    "start_time": "2023-10-22T18:03:28.998Z"
   },
   {
    "duration": 4,
    "start_time": "2023-10-22T18:03:35.556Z"
   },
   {
    "duration": 11,
    "start_time": "2023-10-22T18:03:38.326Z"
   },
   {
    "duration": 5,
    "start_time": "2023-10-22T18:03:42.934Z"
   },
   {
    "duration": 7,
    "start_time": "2023-10-22T18:03:45.033Z"
   },
   {
    "duration": 3,
    "start_time": "2023-10-22T18:03:46.778Z"
   },
   {
    "duration": 5,
    "start_time": "2023-10-22T18:03:49.247Z"
   },
   {
    "duration": 4,
    "start_time": "2023-10-22T18:03:50.913Z"
   },
   {
    "duration": 9,
    "start_time": "2023-10-22T18:03:54.279Z"
   },
   {
    "duration": 16,
    "start_time": "2023-10-22T18:03:57.336Z"
   },
   {
    "duration": 3,
    "start_time": "2023-10-22T18:04:00.729Z"
   },
   {
    "duration": 28,
    "start_time": "2023-10-22T18:04:04.935Z"
   },
   {
    "duration": 4,
    "start_time": "2023-10-22T18:04:07.991Z"
   },
   {
    "duration": 5,
    "start_time": "2023-10-22T18:04:10.953Z"
   },
   {
    "duration": 68,
    "start_time": "2023-10-22T18:04:14.438Z"
   },
   {
    "duration": 1907,
    "start_time": "2023-10-22T18:04:18.716Z"
   },
   {
    "duration": 55973,
    "start_time": "2023-10-22T18:04:25.553Z"
   },
   {
    "duration": 101,
    "start_time": "2023-10-22T18:05:42.753Z"
   },
   {
    "duration": 11,
    "start_time": "2023-10-22T18:07:29.268Z"
   },
   {
    "duration": 11,
    "start_time": "2023-10-22T18:07:38.122Z"
   },
   {
    "duration": 556,
    "start_time": "2023-10-22T18:07:50.054Z"
   },
   {
    "duration": 76926,
    "start_time": "2023-10-22T18:09:16.555Z"
   },
   {
    "duration": 31385,
    "start_time": "2023-10-22T18:12:09.769Z"
   },
   {
    "duration": 5,
    "start_time": "2023-10-22T18:15:23.302Z"
   },
   {
    "duration": 2433,
    "start_time": "2023-10-22T18:15:38.392Z"
   },
   {
    "duration": 956,
    "start_time": "2023-10-22T18:16:12.278Z"
   },
   {
    "duration": 193,
    "start_time": "2023-10-22T18:19:08.055Z"
   },
   {
    "duration": 348,
    "start_time": "2023-10-22T18:19:46.500Z"
   },
   {
    "duration": 1608,
    "start_time": "2023-10-22T18:20:57.648Z"
   },
   {
    "duration": 52,
    "start_time": "2023-10-22T18:21:02.293Z"
   },
   {
    "duration": 8,
    "start_time": "2023-10-22T18:22:10.801Z"
   },
   {
    "duration": 9,
    "start_time": "2023-10-22T18:22:17.368Z"
   },
   {
    "duration": 211,
    "start_time": "2023-10-22T18:22:33.661Z"
   },
   {
    "duration": 259,
    "start_time": "2023-10-22T18:24:17.390Z"
   },
   {
    "duration": 264,
    "start_time": "2023-10-22T18:27:23.391Z"
   },
   {
    "duration": 259,
    "start_time": "2023-10-22T18:30:18.890Z"
   },
   {
    "duration": 5,
    "start_time": "2023-10-22T18:30:59.987Z"
   },
   {
    "duration": 103,
    "start_time": "2023-10-22T18:31:04.083Z"
   },
   {
    "duration": 285,
    "start_time": "2023-10-22T18:33:13.692Z"
   }
  ],
  "kernelspec": {
   "display_name": "Python 3 (ipykernel)",
   "language": "python",
   "name": "python3"
  },
  "language_info": {
   "codemirror_mode": {
    "name": "ipython",
    "version": 3
   },
   "file_extension": ".py",
   "mimetype": "text/x-python",
   "name": "python",
   "nbconvert_exporter": "python",
   "pygments_lexer": "ipython3",
   "version": "3.9.5"
  },
  "toc": {
   "base_numbering": 1,
   "nav_menu": {},
   "number_sections": true,
   "sideBar": true,
   "skip_h1_title": true,
   "title_cell": "Содержание",
   "title_sidebar": "Contents",
   "toc_cell": true,
   "toc_position": {
    "height": "calc(100% - 180px)",
    "left": "10px",
    "top": "150px",
    "width": "165px"
   },
   "toc_section_display": true,
   "toc_window_display": true
  }
 },
 "nbformat": 4,
 "nbformat_minor": 2
}
